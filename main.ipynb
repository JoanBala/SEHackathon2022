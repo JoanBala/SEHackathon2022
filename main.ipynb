{
 "cells": [
  {
   "cell_type": "code",
   "execution_count": null,
   "metadata": {
    "colab": {
     "base_uri": "https://localhost:8080/"
    },
    "id": "uGWpqdQ1KTbf",
    "outputId": "b1688afa-47bb-437c-aadf-0754e68fb05a"
   },
   "outputs": [
    {
     "name": "stdout",
     "output_type": "stream",
     "text": [
      "Collecting lazypredict\n",
      "  Downloading lazypredict-0.2.9-py2.py3-none-any.whl (12 kB)\n"
     ]
    }
   ],
   "source": [
    "### Qué es esto???\n",
    "\n",
    "%pip install lazypredict"
   ]
  },
  {
   "cell_type": "code",
   "execution_count": null,
   "metadata": {
    "id": "gDuYkxQ2rCqB"
   },
   "outputs": [],
   "source": [
    "### \n",
    "\n",
    "import seaborn as sns\n",
    "sns.set_theme(style=\"whitegrid\")\n",
    "%matplotlib inline\n",
    "import requests\n",
    "from pprint import pprint\n",
    "!pip install pdfx\n",
    "import pdfx\n",
    "\n",
    "from sklearn.preprocessing import OrdinalEncoder\n",
    "import pandas as pd\n",
    "import numpy as np\n",
    "from matplotlib import pyplot as plt\n",
    "import lazypredict\n",
    "from lazypredict.Supervised import LazyClassifier\n",
    "from sklearn.model_selection import train_test_split\n",
    "from google.colab import data_table\n",
    "data_table.enable_dataframe_formatter()\n",
    "data_table.disable_dataframe_formatter()\n",
    "# ANOVA feature selection for numeric input and categorical output\n",
    "from sklearn.datasets import make_classification\n",
    "from sklearn.feature_selection import SelectKBest\n",
    "from sklearn.feature_selection import f_classif\n"
   ]
  },
  {
   "cell_type": "code",
   "execution_count": null,
   "metadata": {
    "id": "7oWC-QonBDyr"
   },
   "outputs": [],
   "source": [
    "## User defined functions to get more accurate values than describe()\n",
    "\n",
    "import math\n",
    "def rounder(n):\n",
    "    \"\"\"\n",
    "    Round up to the first digit that is not zero\n",
    "    \"\"\"\n",
    "    if n == 0:\n",
    "        return n\n",
    "    else:\n",
    "        k = 1 - int(math.log10(n))\n",
    "        return round(n, 1 if n > 1 else k)\n",
    "\n",
    "def describer(dataframe):\n",
    "    \"\"\"\n",
    "    Description of dataframe\n",
    "    \"\"\"\n",
    "    desc_df = round(dataframe.describe(include=\"all\"),2).T\n",
    "    desc_df[\"unique\"]=dataframe.nunique()\n",
    "    desc_df[\"NullAny\"]= dataframe.isnull().any()\n",
    "    desc_df[\"NullSum\"]=dataframe.isnull().sum()\n",
    "    desc_df[\"NullPct\"]=(dataframe.isnull().sum()/len(dataframe)*100).apply(rounder)\n",
    "    desc_df[\"dtypes\"]=dataframe.dtypes\n",
    "    desc_df[\"dtypes\"] = desc_df[\"dtypes\"].astype('category')\n",
    "    desc_df[\"count\"] = desc_df[\"count\"].astype(int)\n",
    "    desc_df.sort_values(by=\"dtypes\", inplace=True)\n",
    "    return(desc_df)"
   ]
  },
  {
   "cell_type": "code",
   "execution_count": null,
   "metadata": {
    "id": "IkxFVbWQpDmy"
   },
   "outputs": [],
   "source": [
    "## Import test dataset\n",
    "test_x = pd.read_csv('https://challenges-asset-files.s3.us-east-2.amazonaws.com/data_sets/Data-Science/4+-+events/SchneiderElectricES22/final/test_x.csv', index_col=\"test_index\")"
   ]
  },
  {
   "cell_type": "code",
   "execution_count": null,
   "metadata": {
    "id": "Jcz0QV_btsEv"
   },
   "outputs": [],
   "source": [
    "## Here we import the train 'CSV's, clean a bit and fuse them as one\n",
    "\n",
    "df_1 = pd.read_csv('/content/drive/MyDrive/02-Schneider-Electric-Hack/Data-Science-SE/data/train1.csv')\n",
    "df_2 = pd.read_csv('/content/drive/MyDrive/02-Schneider-Electric-Hack/Data-Science-SE/data/train2.csv', sep=\";\")\n",
    "df_2.drop_duplicates(inplace=True)\n",
    "df_csv = pd.concat([df_1, df_2], ignore_index=True)"
   ]
  },
  {
   "cell_type": "code",
   "execution_count": null,
   "metadata": {
    "id": "LR-SLVH4tRba"
   },
   "outputs": [],
   "source": [
    "## Time to create a nes column whith proper datetime format for further manipulation\n",
    "df_csv[\"date\"] = pd.to_datetime(df_csv[\"reportingYear\"].astype(\"str\")+\"-\"+df_csv[\"MONTH\"].astype(\"str\")+\"-\"+df_csv[\"DAY\"].astype(\"str\"))"
   ]
  },
  {
   "cell_type": "code",
   "execution_count": null,
   "metadata": {
    "id": "v9PI2WcJKkqA"
   },
   "outputs": [],
   "source": [
    "## Same as 'CSV's, but with JSON's\n",
    "\n",
    "# import json 1\n",
    "\n",
    "api_url = \"http://schneiderapihack-env.eba-3ais9akk.us-east-2.elasticbeanstalk.com/first\"\n",
    "response = requests.get(api_url)\n",
    "data = response.json()\n",
    "df_3 = pd.DataFrame(data)\n",
    "df_3.drop(columns=[''], inplace=True)\n",
    "# df_3[\"date\"] = pd.to_datetime(df_3[\"reportingYear\"]+\"-\"+df_3[\"MONTH\"]+\"-\"+df_3[\"DAY\"])\n",
    "\n",
    "\n",
    "api_url = \"http://schneiderapihack-env.eba-3ais9akk.us-east-2.elasticbeanstalk.com/second\"\n",
    "response = requests.get(api_url)\n",
    "data = response.json()\n",
    "df_4 = pd.DataFrame(data)\n",
    "df_4.drop(columns=[''], inplace=True)\n",
    "# df_4[\"date\"] = pd.to_datetime(df_3[\"reportingYear\"]+\"-\"+df_3[\"MONTH\"]+\"-\"+df_3[\"DAY\"])\n",
    "api_url = \"http://schneiderapihack-env.eba-3ais9akk.us-east-2.elasticbeanstalk.com/third\"\n",
    "response = requests.get(api_url)\n",
    "data = response.json()\n",
    "df_5 = pd.DataFrame(data)\n",
    "df_5.drop(columns=[''], inplace=True)\n",
    "# df_5[\"date\"] = pd.to_datetime(df_3[\"reportingYear\"]+\"-\"+df_3[\"MONTH\"]+\"-\"+df_3[\"DAY\"])\n",
    "df_json = pd.concat([df_3,df_4,df_5])\n",
    "\n",
    "df_json[test_x.select_dtypes('int').columns] = df_json[test_x.select_dtypes('int').columns].astype(\"int64\")\n",
    "df_json[test_x.select_dtypes('float64').columns] = df_json[test_x.select_dtypes('float64').columns].astype(\"float64\")\n",
    "df_json[test_x.select_dtypes('object').columns] = df_json[test_x.select_dtypes('object').columns].astype(\"object\")"
   ]
  },
  {
   "cell_type": "code",
   "execution_count": null,
   "metadata": {
    "id": "ghT32N2Cz1hx"
   },
   "outputs": [],
   "source": []
  },
  {
   "cell_type": "code",
   "execution_count": null,
   "metadata": {
    "id": "Fw0jKwTqp8MD"
   },
   "outputs": [],
   "source": [
    "df_3[test_x.select_dtypes('int').columns] = df_3[test_x.select_dtypes('int').columns].astype(\"int64\")\n",
    "df_3[test_x.select_dtypes('float64').columns] = df_3[test_x.select_dtypes('float64').columns].astype(\"float64\")\n",
    "df_3[test_x.select_dtypes('object').columns] = df_3[test_x.select_dtypes('object').columns].astype(\"object\")"
   ]
  },
  {
   "cell_type": "code",
   "execution_count": null,
   "metadata": {
    "id": "iUTG4jaGphHL"
   },
   "outputs": [],
   "source": [
    "df = df_3[test_x.columns]"
   ]
  },
  {
   "cell_type": "code",
   "execution_count": null,
   "metadata": {
    "id": "1nEOgSxus99x"
   },
   "outputs": [],
   "source": [
    "def parse_values(x):\n",
    "    if x ==\"Nitrogen oxides (NOX)\":\n",
    "       return 0\n",
    "    elif x ==\"Carbon dioxide (CO2)\":\n",
    "       return 1\n",
    "    else:\n",
    "       return 2\n",
    "\n",
    "df['target'] = df_3['pollutant'].apply(parse_values)"
   ]
  },
  {
   "cell_type": "code",
   "execution_count": null,
   "metadata": {
    "id": "t2mGNS4BtUbZ"
   },
   "outputs": [],
   "source": [
    "df.drop(columns = df.columns[df.nunique() == 1], inplace = True)"
   ]
  },
  {
   "cell_type": "code",
   "execution_count": null,
   "metadata": {
    "id": "czj2dG3Pu7Cx"
   },
   "outputs": [],
   "source": [
    "df.drop(columns=['EPRTRSectorCode', \"REPORTER NAME\", \"City\", \"FacilityInspireID\", \"EPRTRAnnexIMainActivityCode\"], inplace=True)"
   ]
  },
  {
   "cell_type": "code",
   "execution_count": null,
   "metadata": {
    "id": "G5hOh53OtUrd"
   },
   "outputs": [],
   "source": [
    "df.drop_duplicates(inplace = True)"
   ]
  },
  {
   "cell_type": "code",
   "execution_count": null,
   "metadata": {
    "colab": {
     "base_uri": "https://localhost:8080/"
    },
    "id": "kA4H6TLB3-dE",
    "outputId": "ff297210-0184-4235-e508-c1e21e00ffdb"
   },
   "outputs": [
    {
     "data": {
      "text/plain": [
       "countryName                     0\n",
       "eprtrSectorName                 0\n",
       "EPRTRAnnexIMainActivityLabel    0\n",
       "facilityName                    0\n",
       "reportingYear                   0\n",
       "MONTH                           0\n",
       "DAY                             0\n",
       "max_wind_speed                  0\n",
       "avg_wind_speed                  0\n",
       "min_wind_speed                  0\n",
       "max_temp                        0\n",
       "avg_temp                        0\n",
       "min_temp                        0\n",
       "DAY WITH FOGS                   0\n",
       "CITY ID                         0\n",
       "target                          0\n",
       "dtype: int64"
      ]
     },
     "execution_count": 38,
     "metadata": {},
     "output_type": "execute_result"
    }
   ],
   "source": [
    "df.isnull().sum()"
   ]
  },
  {
   "cell_type": "code",
   "execution_count": null,
   "metadata": {
    "id": "qcdO8FnwNq7P"
   },
   "outputs": [],
   "source": [
    "# Ordinal encoding \n",
    "encoder = OrdinalEncoder()\n",
    "df[df.select_dtypes('object').columns]= encoder.fit_transform(df[df.select_dtypes('object').columns])"
   ]
  },
  {
   "cell_type": "code",
   "execution_count": null,
   "metadata": {
    "colab": {
     "base_uri": "https://localhost:8080/",
     "height": 522
    },
    "id": "icWqdlJZHlcz",
    "outputId": "fff709f5-fb13-4d28-a38b-84ec057ca231"
   },
   "outputs": [
    {
     "data": {
      "text/html": [
       "\n",
       "  <div id=\"df-c91676fb-8a15-4b07-9359-c6509b5db0ad\">\n",
       "    <div class=\"colab-df-container\">\n",
       "      <div>\n",
       "<style scoped>\n",
       "    .dataframe tbody tr th:only-of-type {\n",
       "        vertical-align: middle;\n",
       "    }\n",
       "\n",
       "    .dataframe tbody tr th {\n",
       "        vertical-align: top;\n",
       "    }\n",
       "\n",
       "    .dataframe thead th {\n",
       "        text-align: right;\n",
       "    }\n",
       "</style>\n",
       "<table border=\"1\" class=\"dataframe\">\n",
       "  <thead>\n",
       "    <tr style=\"text-align: right;\">\n",
       "      <th></th>\n",
       "      <th>countryName</th>\n",
       "      <th>eprtrSectorName</th>\n",
       "      <th>EPRTRAnnexIMainActivityLabel</th>\n",
       "      <th>facilityName</th>\n",
       "      <th>reportingYear</th>\n",
       "      <th>MONTH</th>\n",
       "      <th>DAY</th>\n",
       "      <th>max_wind_speed</th>\n",
       "      <th>avg_wind_speed</th>\n",
       "      <th>min_wind_speed</th>\n",
       "      <th>max_temp</th>\n",
       "      <th>avg_temp</th>\n",
       "      <th>min_temp</th>\n",
       "      <th>DAY WITH FOGS</th>\n",
       "      <th>CITY ID</th>\n",
       "      <th>target</th>\n",
       "    </tr>\n",
       "  </thead>\n",
       "  <tbody>\n",
       "    <tr>\n",
       "      <th>0</th>\n",
       "      <td>20.00</td>\n",
       "      <td>1.00</td>\n",
       "      <td>6.00</td>\n",
       "      <td>2131.00</td>\n",
       "      <td>2020</td>\n",
       "      <td>3</td>\n",
       "      <td>2</td>\n",
       "      <td>11.02</td>\n",
       "      <td>15.69</td>\n",
       "      <td>20.90</td>\n",
       "      <td>13.26</td>\n",
       "      <td>12.33</td>\n",
       "      <td>14.70</td>\n",
       "      <td>1</td>\n",
       "      <td>973.00</td>\n",
       "      <td>1</td>\n",
       "    </tr>\n",
       "    <tr>\n",
       "      <th>1</th>\n",
       "      <td>11.00</td>\n",
       "      <td>4.00</td>\n",
       "      <td>48.00</td>\n",
       "      <td>3947.00</td>\n",
       "      <td>2019</td>\n",
       "      <td>2</td>\n",
       "      <td>3</td>\n",
       "      <td>14.51</td>\n",
       "      <td>18.40</td>\n",
       "      <td>23.24</td>\n",
       "      <td>4.53</td>\n",
       "      <td>5.11</td>\n",
       "      <td>9.22</td>\n",
       "      <td>2</td>\n",
       "      <td>3152.00</td>\n",
       "      <td>0</td>\n",
       "    </tr>\n",
       "    <tr>\n",
       "      <th>2</th>\n",
       "      <td>31.00</td>\n",
       "      <td>2.00</td>\n",
       "      <td>62.00</td>\n",
       "      <td>1022.00</td>\n",
       "      <td>2009</td>\n",
       "      <td>9</td>\n",
       "      <td>1</td>\n",
       "      <td>20.26</td>\n",
       "      <td>21.86</td>\n",
       "      <td>23.96</td>\n",
       "      <td>10.67</td>\n",
       "      <td>10.21</td>\n",
       "      <td>14.72</td>\n",
       "      <td>12</td>\n",
       "      <td>2668.00</td>\n",
       "      <td>0</td>\n",
       "    </tr>\n",
       "    <tr>\n",
       "      <th>3</th>\n",
       "      <td>15.00</td>\n",
       "      <td>3.00</td>\n",
       "      <td>36.00</td>\n",
       "      <td>3487.00</td>\n",
       "      <td>2014</td>\n",
       "      <td>10</td>\n",
       "      <td>17</td>\n",
       "      <td>18.28</td>\n",
       "      <td>19.20</td>\n",
       "      <td>26.70</td>\n",
       "      <td>7.10</td>\n",
       "      <td>9.50</td>\n",
       "      <td>13.58</td>\n",
       "      <td>1</td>\n",
       "      <td>1904.00</td>\n",
       "      <td>2</td>\n",
       "    </tr>\n",
       "    <tr>\n",
       "      <th>4</th>\n",
       "      <td>10.00</td>\n",
       "      <td>8.00</td>\n",
       "      <td>53.00</td>\n",
       "      <td>431.00</td>\n",
       "      <td>2015</td>\n",
       "      <td>9</td>\n",
       "      <td>6</td>\n",
       "      <td>13.76</td>\n",
       "      <td>18.28</td>\n",
       "      <td>24.77</td>\n",
       "      <td>9.89</td>\n",
       "      <td>11.59</td>\n",
       "      <td>14.01</td>\n",
       "      <td>0</td>\n",
       "      <td>3128.00</td>\n",
       "      <td>1</td>\n",
       "    </tr>\n",
       "    <tr>\n",
       "      <th>...</th>\n",
       "      <td>...</td>\n",
       "      <td>...</td>\n",
       "      <td>...</td>\n",
       "      <td>...</td>\n",
       "      <td>...</td>\n",
       "      <td>...</td>\n",
       "      <td>...</td>\n",
       "      <td>...</td>\n",
       "      <td>...</td>\n",
       "      <td>...</td>\n",
       "      <td>...</td>\n",
       "      <td>...</td>\n",
       "      <td>...</td>\n",
       "      <td>...</td>\n",
       "      <td>...</td>\n",
       "      <td>...</td>\n",
       "    </tr>\n",
       "    <tr>\n",
       "      <th>9495</th>\n",
       "      <td>31.00</td>\n",
       "      <td>8.00</td>\n",
       "      <td>56.00</td>\n",
       "      <td>1860.00</td>\n",
       "      <td>2019</td>\n",
       "      <td>10</td>\n",
       "      <td>8</td>\n",
       "      <td>15.41</td>\n",
       "      <td>21.28</td>\n",
       "      <td>22.65</td>\n",
       "      <td>3.17</td>\n",
       "      <td>4.67</td>\n",
       "      <td>7.16</td>\n",
       "      <td>6</td>\n",
       "      <td>2673.00</td>\n",
       "      <td>2</td>\n",
       "    </tr>\n",
       "    <tr>\n",
       "      <th>9496</th>\n",
       "      <td>14.00</td>\n",
       "      <td>2.00</td>\n",
       "      <td>62.00</td>\n",
       "      <td>1461.00</td>\n",
       "      <td>2009</td>\n",
       "      <td>6</td>\n",
       "      <td>18</td>\n",
       "      <td>15.39</td>\n",
       "      <td>21.18</td>\n",
       "      <td>25.05</td>\n",
       "      <td>6.68</td>\n",
       "      <td>8.71</td>\n",
       "      <td>10.11</td>\n",
       "      <td>0</td>\n",
       "      <td>3167.00</td>\n",
       "      <td>0</td>\n",
       "    </tr>\n",
       "    <tr>\n",
       "      <th>9497</th>\n",
       "      <td>28.00</td>\n",
       "      <td>2.00</td>\n",
       "      <td>62.00</td>\n",
       "      <td>531.00</td>\n",
       "      <td>2011</td>\n",
       "      <td>5</td>\n",
       "      <td>25</td>\n",
       "      <td>10.22</td>\n",
       "      <td>14.07</td>\n",
       "      <td>18.28</td>\n",
       "      <td>16.03</td>\n",
       "      <td>16.27</td>\n",
       "      <td>20.33</td>\n",
       "      <td>2</td>\n",
       "      <td>625.00</td>\n",
       "      <td>0</td>\n",
       "    </tr>\n",
       "    <tr>\n",
       "      <th>9498</th>\n",
       "      <td>31.00</td>\n",
       "      <td>2.00</td>\n",
       "      <td>62.00</td>\n",
       "      <td>2542.00</td>\n",
       "      <td>2011</td>\n",
       "      <td>5</td>\n",
       "      <td>23</td>\n",
       "      <td>11.20</td>\n",
       "      <td>16.60</td>\n",
       "      <td>21.47</td>\n",
       "      <td>16.43</td>\n",
       "      <td>15.61</td>\n",
       "      <td>20.22</td>\n",
       "      <td>12</td>\n",
       "      <td>2668.00</td>\n",
       "      <td>2</td>\n",
       "    </tr>\n",
       "    <tr>\n",
       "      <th>9499</th>\n",
       "      <td>9.00</td>\n",
       "      <td>1.00</td>\n",
       "      <td>10.00</td>\n",
       "      <td>134.00</td>\n",
       "      <td>2010</td>\n",
       "      <td>9</td>\n",
       "      <td>3</td>\n",
       "      <td>12.03</td>\n",
       "      <td>16.53</td>\n",
       "      <td>23.02</td>\n",
       "      <td>2.65</td>\n",
       "      <td>3.16</td>\n",
       "      <td>6.12</td>\n",
       "      <td>2</td>\n",
       "      <td>447.00</td>\n",
       "      <td>0</td>\n",
       "    </tr>\n",
       "  </tbody>\n",
       "</table>\n",
       "<p>9500 rows × 16 columns</p>\n",
       "</div>\n",
       "      <button class=\"colab-df-convert\" onclick=\"convertToInteractive('df-c91676fb-8a15-4b07-9359-c6509b5db0ad')\"\n",
       "              title=\"Convert this dataframe to an interactive table.\"\n",
       "              style=\"display:none;\">\n",
       "        \n",
       "  <svg xmlns=\"http://www.w3.org/2000/svg\" height=\"24px\"viewBox=\"0 0 24 24\"\n",
       "       width=\"24px\">\n",
       "    <path d=\"M0 0h24v24H0V0z\" fill=\"none\"/>\n",
       "    <path d=\"M18.56 5.44l.94 2.06.94-2.06 2.06-.94-2.06-.94-.94-2.06-.94 2.06-2.06.94zm-11 1L8.5 8.5l.94-2.06 2.06-.94-2.06-.94L8.5 2.5l-.94 2.06-2.06.94zm10 10l.94 2.06.94-2.06 2.06-.94-2.06-.94-.94-2.06-.94 2.06-2.06.94z\"/><path d=\"M17.41 7.96l-1.37-1.37c-.4-.4-.92-.59-1.43-.59-.52 0-1.04.2-1.43.59L10.3 9.45l-7.72 7.72c-.78.78-.78 2.05 0 2.83L4 21.41c.39.39.9.59 1.41.59.51 0 1.02-.2 1.41-.59l7.78-7.78 2.81-2.81c.8-.78.8-2.07 0-2.86zM5.41 20L4 18.59l7.72-7.72 1.47 1.35L5.41 20z\"/>\n",
       "  </svg>\n",
       "      </button>\n",
       "      \n",
       "  <style>\n",
       "    .colab-df-container {\n",
       "      display:flex;\n",
       "      flex-wrap:wrap;\n",
       "      gap: 12px;\n",
       "    }\n",
       "\n",
       "    .colab-df-convert {\n",
       "      background-color: #E8F0FE;\n",
       "      border: none;\n",
       "      border-radius: 50%;\n",
       "      cursor: pointer;\n",
       "      display: none;\n",
       "      fill: #1967D2;\n",
       "      height: 32px;\n",
       "      padding: 0 0 0 0;\n",
       "      width: 32px;\n",
       "    }\n",
       "\n",
       "    .colab-df-convert:hover {\n",
       "      background-color: #E2EBFA;\n",
       "      box-shadow: 0px 1px 2px rgba(60, 64, 67, 0.3), 0px 1px 3px 1px rgba(60, 64, 67, 0.15);\n",
       "      fill: #174EA6;\n",
       "    }\n",
       "\n",
       "    [theme=dark] .colab-df-convert {\n",
       "      background-color: #3B4455;\n",
       "      fill: #D2E3FC;\n",
       "    }\n",
       "\n",
       "    [theme=dark] .colab-df-convert:hover {\n",
       "      background-color: #434B5C;\n",
       "      box-shadow: 0px 1px 3px 1px rgba(0, 0, 0, 0.15);\n",
       "      filter: drop-shadow(0px 1px 2px rgba(0, 0, 0, 0.3));\n",
       "      fill: #FFFFFF;\n",
       "    }\n",
       "  </style>\n",
       "\n",
       "      <script>\n",
       "        const buttonEl =\n",
       "          document.querySelector('#df-c91676fb-8a15-4b07-9359-c6509b5db0ad button.colab-df-convert');\n",
       "        buttonEl.style.display =\n",
       "          google.colab.kernel.accessAllowed ? 'block' : 'none';\n",
       "\n",
       "        async function convertToInteractive(key) {\n",
       "          const element = document.querySelector('#df-c91676fb-8a15-4b07-9359-c6509b5db0ad');\n",
       "          const dataTable =\n",
       "            await google.colab.kernel.invokeFunction('convertToInteractive',\n",
       "                                                     [key], {});\n",
       "          if (!dataTable) return;\n",
       "\n",
       "          const docLinkHtml = 'Like what you see? Visit the ' +\n",
       "            '<a target=\"_blank\" href=https://colab.research.google.com/notebooks/data_table.ipynb>data table notebook</a>'\n",
       "            + ' to learn more about interactive tables.';\n",
       "          element.innerHTML = '';\n",
       "          dataTable['output_type'] = 'display_data';\n",
       "          await google.colab.output.renderOutput(dataTable, element);\n",
       "          const docLink = document.createElement('div');\n",
       "          docLink.innerHTML = docLinkHtml;\n",
       "          element.appendChild(docLink);\n",
       "        }\n",
       "      </script>\n",
       "    </div>\n",
       "  </div>\n",
       "  "
      ],
      "text/plain": [
       "      countryName  eprtrSectorName  EPRTRAnnexIMainActivityLabel  \\\n",
       "0           20.00             1.00                          6.00   \n",
       "1           11.00             4.00                         48.00   \n",
       "2           31.00             2.00                         62.00   \n",
       "3           15.00             3.00                         36.00   \n",
       "4           10.00             8.00                         53.00   \n",
       "...           ...              ...                           ...   \n",
       "9495        31.00             8.00                         56.00   \n",
       "9496        14.00             2.00                         62.00   \n",
       "9497        28.00             2.00                         62.00   \n",
       "9498        31.00             2.00                         62.00   \n",
       "9499         9.00             1.00                         10.00   \n",
       "\n",
       "      facilityName  reportingYear  MONTH  DAY  max_wind_speed  avg_wind_speed  \\\n",
       "0          2131.00           2020      3    2           11.02           15.69   \n",
       "1          3947.00           2019      2    3           14.51           18.40   \n",
       "2          1022.00           2009      9    1           20.26           21.86   \n",
       "3          3487.00           2014     10   17           18.28           19.20   \n",
       "4           431.00           2015      9    6           13.76           18.28   \n",
       "...            ...            ...    ...  ...             ...             ...   \n",
       "9495       1860.00           2019     10    8           15.41           21.28   \n",
       "9496       1461.00           2009      6   18           15.39           21.18   \n",
       "9497        531.00           2011      5   25           10.22           14.07   \n",
       "9498       2542.00           2011      5   23           11.20           16.60   \n",
       "9499        134.00           2010      9    3           12.03           16.53   \n",
       "\n",
       "      min_wind_speed  max_temp  avg_temp  min_temp  DAY WITH FOGS  CITY ID  \\\n",
       "0              20.90     13.26     12.33     14.70              1   973.00   \n",
       "1              23.24      4.53      5.11      9.22              2  3152.00   \n",
       "2              23.96     10.67     10.21     14.72             12  2668.00   \n",
       "3              26.70      7.10      9.50     13.58              1  1904.00   \n",
       "4              24.77      9.89     11.59     14.01              0  3128.00   \n",
       "...              ...       ...       ...       ...            ...      ...   \n",
       "9495           22.65      3.17      4.67      7.16              6  2673.00   \n",
       "9496           25.05      6.68      8.71     10.11              0  3167.00   \n",
       "9497           18.28     16.03     16.27     20.33              2   625.00   \n",
       "9498           21.47     16.43     15.61     20.22             12  2668.00   \n",
       "9499           23.02      2.65      3.16      6.12              2   447.00   \n",
       "\n",
       "      target  \n",
       "0          1  \n",
       "1          0  \n",
       "2          0  \n",
       "3          2  \n",
       "4          1  \n",
       "...      ...  \n",
       "9495       2  \n",
       "9496       0  \n",
       "9497       0  \n",
       "9498       2  \n",
       "9499       0  \n",
       "\n",
       "[9500 rows x 16 columns]"
      ]
     },
     "execution_count": 40,
     "metadata": {},
     "output_type": "execute_result"
    }
   ],
   "source": [
    "df[df.select_dtypes('number').columns]"
   ]
  },
  {
   "cell_type": "code",
   "execution_count": null,
   "metadata": {
    "id": "xB6n1cAqJJdc"
   },
   "outputs": [],
   "source": []
  },
  {
   "cell_type": "code",
   "execution_count": null,
   "metadata": {
    "id": "FacYHE4r-_uy"
   },
   "outputs": [],
   "source": [
    "# Matrix\n",
    "X = df[df.select_dtypes('number').columns].drop(columns=['target'])\n",
    "# Vector\n",
    "y = df['target']"
   ]
  },
  {
   "cell_type": "code",
   "execution_count": null,
   "metadata": {
    "colab": {
     "base_uri": "https://localhost:8080/",
     "height": 522
    },
    "id": "FyYa-CrdJcWj",
    "outputId": "4d366d31-b99c-460b-9b0c-c91caa0cd252"
   },
   "outputs": [
    {
     "data": {
      "text/html": [
       "\n",
       "  <div id=\"df-f8e953b2-cb05-4a8f-97a7-cf78324d6ad9\">\n",
       "    <div class=\"colab-df-container\">\n",
       "      <div>\n",
       "<style scoped>\n",
       "    .dataframe tbody tr th:only-of-type {\n",
       "        vertical-align: middle;\n",
       "    }\n",
       "\n",
       "    .dataframe tbody tr th {\n",
       "        vertical-align: top;\n",
       "    }\n",
       "\n",
       "    .dataframe thead th {\n",
       "        text-align: right;\n",
       "    }\n",
       "</style>\n",
       "<table border=\"1\" class=\"dataframe\">\n",
       "  <thead>\n",
       "    <tr style=\"text-align: right;\">\n",
       "      <th></th>\n",
       "      <th>countryName</th>\n",
       "      <th>eprtrSectorName</th>\n",
       "      <th>EPRTRAnnexIMainActivityLabel</th>\n",
       "      <th>facilityName</th>\n",
       "      <th>reportingYear</th>\n",
       "      <th>MONTH</th>\n",
       "      <th>DAY</th>\n",
       "      <th>max_wind_speed</th>\n",
       "      <th>avg_wind_speed</th>\n",
       "      <th>min_wind_speed</th>\n",
       "      <th>max_temp</th>\n",
       "      <th>avg_temp</th>\n",
       "      <th>min_temp</th>\n",
       "      <th>DAY WITH FOGS</th>\n",
       "      <th>CITY ID</th>\n",
       "    </tr>\n",
       "  </thead>\n",
       "  <tbody>\n",
       "    <tr>\n",
       "      <th>0</th>\n",
       "      <td>20.00</td>\n",
       "      <td>1.00</td>\n",
       "      <td>6.00</td>\n",
       "      <td>2131.00</td>\n",
       "      <td>2020</td>\n",
       "      <td>3</td>\n",
       "      <td>2</td>\n",
       "      <td>11.02</td>\n",
       "      <td>15.69</td>\n",
       "      <td>20.90</td>\n",
       "      <td>13.26</td>\n",
       "      <td>12.33</td>\n",
       "      <td>14.70</td>\n",
       "      <td>1</td>\n",
       "      <td>973.00</td>\n",
       "    </tr>\n",
       "    <tr>\n",
       "      <th>1</th>\n",
       "      <td>11.00</td>\n",
       "      <td>4.00</td>\n",
       "      <td>48.00</td>\n",
       "      <td>3947.00</td>\n",
       "      <td>2019</td>\n",
       "      <td>2</td>\n",
       "      <td>3</td>\n",
       "      <td>14.51</td>\n",
       "      <td>18.40</td>\n",
       "      <td>23.24</td>\n",
       "      <td>4.53</td>\n",
       "      <td>5.11</td>\n",
       "      <td>9.22</td>\n",
       "      <td>2</td>\n",
       "      <td>3152.00</td>\n",
       "    </tr>\n",
       "    <tr>\n",
       "      <th>2</th>\n",
       "      <td>31.00</td>\n",
       "      <td>2.00</td>\n",
       "      <td>62.00</td>\n",
       "      <td>1022.00</td>\n",
       "      <td>2009</td>\n",
       "      <td>9</td>\n",
       "      <td>1</td>\n",
       "      <td>20.26</td>\n",
       "      <td>21.86</td>\n",
       "      <td>23.96</td>\n",
       "      <td>10.67</td>\n",
       "      <td>10.21</td>\n",
       "      <td>14.72</td>\n",
       "      <td>12</td>\n",
       "      <td>2668.00</td>\n",
       "    </tr>\n",
       "    <tr>\n",
       "      <th>3</th>\n",
       "      <td>15.00</td>\n",
       "      <td>3.00</td>\n",
       "      <td>36.00</td>\n",
       "      <td>3487.00</td>\n",
       "      <td>2014</td>\n",
       "      <td>10</td>\n",
       "      <td>17</td>\n",
       "      <td>18.28</td>\n",
       "      <td>19.20</td>\n",
       "      <td>26.70</td>\n",
       "      <td>7.10</td>\n",
       "      <td>9.50</td>\n",
       "      <td>13.58</td>\n",
       "      <td>1</td>\n",
       "      <td>1904.00</td>\n",
       "    </tr>\n",
       "    <tr>\n",
       "      <th>4</th>\n",
       "      <td>10.00</td>\n",
       "      <td>8.00</td>\n",
       "      <td>53.00</td>\n",
       "      <td>431.00</td>\n",
       "      <td>2015</td>\n",
       "      <td>9</td>\n",
       "      <td>6</td>\n",
       "      <td>13.76</td>\n",
       "      <td>18.28</td>\n",
       "      <td>24.77</td>\n",
       "      <td>9.89</td>\n",
       "      <td>11.59</td>\n",
       "      <td>14.01</td>\n",
       "      <td>0</td>\n",
       "      <td>3128.00</td>\n",
       "    </tr>\n",
       "    <tr>\n",
       "      <th>...</th>\n",
       "      <td>...</td>\n",
       "      <td>...</td>\n",
       "      <td>...</td>\n",
       "      <td>...</td>\n",
       "      <td>...</td>\n",
       "      <td>...</td>\n",
       "      <td>...</td>\n",
       "      <td>...</td>\n",
       "      <td>...</td>\n",
       "      <td>...</td>\n",
       "      <td>...</td>\n",
       "      <td>...</td>\n",
       "      <td>...</td>\n",
       "      <td>...</td>\n",
       "      <td>...</td>\n",
       "    </tr>\n",
       "    <tr>\n",
       "      <th>9495</th>\n",
       "      <td>31.00</td>\n",
       "      <td>8.00</td>\n",
       "      <td>56.00</td>\n",
       "      <td>1860.00</td>\n",
       "      <td>2019</td>\n",
       "      <td>10</td>\n",
       "      <td>8</td>\n",
       "      <td>15.41</td>\n",
       "      <td>21.28</td>\n",
       "      <td>22.65</td>\n",
       "      <td>3.17</td>\n",
       "      <td>4.67</td>\n",
       "      <td>7.16</td>\n",
       "      <td>6</td>\n",
       "      <td>2673.00</td>\n",
       "    </tr>\n",
       "    <tr>\n",
       "      <th>9496</th>\n",
       "      <td>14.00</td>\n",
       "      <td>2.00</td>\n",
       "      <td>62.00</td>\n",
       "      <td>1461.00</td>\n",
       "      <td>2009</td>\n",
       "      <td>6</td>\n",
       "      <td>18</td>\n",
       "      <td>15.39</td>\n",
       "      <td>21.18</td>\n",
       "      <td>25.05</td>\n",
       "      <td>6.68</td>\n",
       "      <td>8.71</td>\n",
       "      <td>10.11</td>\n",
       "      <td>0</td>\n",
       "      <td>3167.00</td>\n",
       "    </tr>\n",
       "    <tr>\n",
       "      <th>9497</th>\n",
       "      <td>28.00</td>\n",
       "      <td>2.00</td>\n",
       "      <td>62.00</td>\n",
       "      <td>531.00</td>\n",
       "      <td>2011</td>\n",
       "      <td>5</td>\n",
       "      <td>25</td>\n",
       "      <td>10.22</td>\n",
       "      <td>14.07</td>\n",
       "      <td>18.28</td>\n",
       "      <td>16.03</td>\n",
       "      <td>16.27</td>\n",
       "      <td>20.33</td>\n",
       "      <td>2</td>\n",
       "      <td>625.00</td>\n",
       "    </tr>\n",
       "    <tr>\n",
       "      <th>9498</th>\n",
       "      <td>31.00</td>\n",
       "      <td>2.00</td>\n",
       "      <td>62.00</td>\n",
       "      <td>2542.00</td>\n",
       "      <td>2011</td>\n",
       "      <td>5</td>\n",
       "      <td>23</td>\n",
       "      <td>11.20</td>\n",
       "      <td>16.60</td>\n",
       "      <td>21.47</td>\n",
       "      <td>16.43</td>\n",
       "      <td>15.61</td>\n",
       "      <td>20.22</td>\n",
       "      <td>12</td>\n",
       "      <td>2668.00</td>\n",
       "    </tr>\n",
       "    <tr>\n",
       "      <th>9499</th>\n",
       "      <td>9.00</td>\n",
       "      <td>1.00</td>\n",
       "      <td>10.00</td>\n",
       "      <td>134.00</td>\n",
       "      <td>2010</td>\n",
       "      <td>9</td>\n",
       "      <td>3</td>\n",
       "      <td>12.03</td>\n",
       "      <td>16.53</td>\n",
       "      <td>23.02</td>\n",
       "      <td>2.65</td>\n",
       "      <td>3.16</td>\n",
       "      <td>6.12</td>\n",
       "      <td>2</td>\n",
       "      <td>447.00</td>\n",
       "    </tr>\n",
       "  </tbody>\n",
       "</table>\n",
       "<p>9500 rows × 15 columns</p>\n",
       "</div>\n",
       "      <button class=\"colab-df-convert\" onclick=\"convertToInteractive('df-f8e953b2-cb05-4a8f-97a7-cf78324d6ad9')\"\n",
       "              title=\"Convert this dataframe to an interactive table.\"\n",
       "              style=\"display:none;\">\n",
       "        \n",
       "  <svg xmlns=\"http://www.w3.org/2000/svg\" height=\"24px\"viewBox=\"0 0 24 24\"\n",
       "       width=\"24px\">\n",
       "    <path d=\"M0 0h24v24H0V0z\" fill=\"none\"/>\n",
       "    <path d=\"M18.56 5.44l.94 2.06.94-2.06 2.06-.94-2.06-.94-.94-2.06-.94 2.06-2.06.94zm-11 1L8.5 8.5l.94-2.06 2.06-.94-2.06-.94L8.5 2.5l-.94 2.06-2.06.94zm10 10l.94 2.06.94-2.06 2.06-.94-2.06-.94-.94-2.06-.94 2.06-2.06.94z\"/><path d=\"M17.41 7.96l-1.37-1.37c-.4-.4-.92-.59-1.43-.59-.52 0-1.04.2-1.43.59L10.3 9.45l-7.72 7.72c-.78.78-.78 2.05 0 2.83L4 21.41c.39.39.9.59 1.41.59.51 0 1.02-.2 1.41-.59l7.78-7.78 2.81-2.81c.8-.78.8-2.07 0-2.86zM5.41 20L4 18.59l7.72-7.72 1.47 1.35L5.41 20z\"/>\n",
       "  </svg>\n",
       "      </button>\n",
       "      \n",
       "  <style>\n",
       "    .colab-df-container {\n",
       "      display:flex;\n",
       "      flex-wrap:wrap;\n",
       "      gap: 12px;\n",
       "    }\n",
       "\n",
       "    .colab-df-convert {\n",
       "      background-color: #E8F0FE;\n",
       "      border: none;\n",
       "      border-radius: 50%;\n",
       "      cursor: pointer;\n",
       "      display: none;\n",
       "      fill: #1967D2;\n",
       "      height: 32px;\n",
       "      padding: 0 0 0 0;\n",
       "      width: 32px;\n",
       "    }\n",
       "\n",
       "    .colab-df-convert:hover {\n",
       "      background-color: #E2EBFA;\n",
       "      box-shadow: 0px 1px 2px rgba(60, 64, 67, 0.3), 0px 1px 3px 1px rgba(60, 64, 67, 0.15);\n",
       "      fill: #174EA6;\n",
       "    }\n",
       "\n",
       "    [theme=dark] .colab-df-convert {\n",
       "      background-color: #3B4455;\n",
       "      fill: #D2E3FC;\n",
       "    }\n",
       "\n",
       "    [theme=dark] .colab-df-convert:hover {\n",
       "      background-color: #434B5C;\n",
       "      box-shadow: 0px 1px 3px 1px rgba(0, 0, 0, 0.15);\n",
       "      filter: drop-shadow(0px 1px 2px rgba(0, 0, 0, 0.3));\n",
       "      fill: #FFFFFF;\n",
       "    }\n",
       "  </style>\n",
       "\n",
       "      <script>\n",
       "        const buttonEl =\n",
       "          document.querySelector('#df-f8e953b2-cb05-4a8f-97a7-cf78324d6ad9 button.colab-df-convert');\n",
       "        buttonEl.style.display =\n",
       "          google.colab.kernel.accessAllowed ? 'block' : 'none';\n",
       "\n",
       "        async function convertToInteractive(key) {\n",
       "          const element = document.querySelector('#df-f8e953b2-cb05-4a8f-97a7-cf78324d6ad9');\n",
       "          const dataTable =\n",
       "            await google.colab.kernel.invokeFunction('convertToInteractive',\n",
       "                                                     [key], {});\n",
       "          if (!dataTable) return;\n",
       "\n",
       "          const docLinkHtml = 'Like what you see? Visit the ' +\n",
       "            '<a target=\"_blank\" href=https://colab.research.google.com/notebooks/data_table.ipynb>data table notebook</a>'\n",
       "            + ' to learn more about interactive tables.';\n",
       "          element.innerHTML = '';\n",
       "          dataTable['output_type'] = 'display_data';\n",
       "          await google.colab.output.renderOutput(dataTable, element);\n",
       "          const docLink = document.createElement('div');\n",
       "          docLink.innerHTML = docLinkHtml;\n",
       "          element.appendChild(docLink);\n",
       "        }\n",
       "      </script>\n",
       "    </div>\n",
       "  </div>\n",
       "  "
      ],
      "text/plain": [
       "      countryName  eprtrSectorName  EPRTRAnnexIMainActivityLabel  \\\n",
       "0           20.00             1.00                          6.00   \n",
       "1           11.00             4.00                         48.00   \n",
       "2           31.00             2.00                         62.00   \n",
       "3           15.00             3.00                         36.00   \n",
       "4           10.00             8.00                         53.00   \n",
       "...           ...              ...                           ...   \n",
       "9495        31.00             8.00                         56.00   \n",
       "9496        14.00             2.00                         62.00   \n",
       "9497        28.00             2.00                         62.00   \n",
       "9498        31.00             2.00                         62.00   \n",
       "9499         9.00             1.00                         10.00   \n",
       "\n",
       "      facilityName  reportingYear  MONTH  DAY  max_wind_speed  avg_wind_speed  \\\n",
       "0          2131.00           2020      3    2           11.02           15.69   \n",
       "1          3947.00           2019      2    3           14.51           18.40   \n",
       "2          1022.00           2009      9    1           20.26           21.86   \n",
       "3          3487.00           2014     10   17           18.28           19.20   \n",
       "4           431.00           2015      9    6           13.76           18.28   \n",
       "...            ...            ...    ...  ...             ...             ...   \n",
       "9495       1860.00           2019     10    8           15.41           21.28   \n",
       "9496       1461.00           2009      6   18           15.39           21.18   \n",
       "9497        531.00           2011      5   25           10.22           14.07   \n",
       "9498       2542.00           2011      5   23           11.20           16.60   \n",
       "9499        134.00           2010      9    3           12.03           16.53   \n",
       "\n",
       "      min_wind_speed  max_temp  avg_temp  min_temp  DAY WITH FOGS  CITY ID  \n",
       "0              20.90     13.26     12.33     14.70              1   973.00  \n",
       "1              23.24      4.53      5.11      9.22              2  3152.00  \n",
       "2              23.96     10.67     10.21     14.72             12  2668.00  \n",
       "3              26.70      7.10      9.50     13.58              1  1904.00  \n",
       "4              24.77      9.89     11.59     14.01              0  3128.00  \n",
       "...              ...       ...       ...       ...            ...      ...  \n",
       "9495           22.65      3.17      4.67      7.16              6  2673.00  \n",
       "9496           25.05      6.68      8.71     10.11              0  3167.00  \n",
       "9497           18.28     16.03     16.27     20.33              2   625.00  \n",
       "9498           21.47     16.43     15.61     20.22             12  2668.00  \n",
       "9499           23.02      2.65      3.16      6.12              2   447.00  \n",
       "\n",
       "[9500 rows x 15 columns]"
      ]
     },
     "execution_count": 42,
     "metadata": {},
     "output_type": "execute_result"
    }
   ],
   "source": [
    "X"
   ]
  },
  {
   "cell_type": "code",
   "execution_count": null,
   "metadata": {
    "id": "xJej2USrJcZX"
   },
   "outputs": [],
   "source": [
    "from sklearn.preprocessing import StandardScaler\n",
    "scaler = StandardScaler()\n",
    "X = scaler.fit_transform(X)"
   ]
  },
  {
   "cell_type": "code",
   "execution_count": null,
   "metadata": {
    "id": "5Ndt9wwQPkV9"
   },
   "outputs": [],
   "source": []
  },
  {
   "cell_type": "code",
   "execution_count": null,
   "metadata": {
    "id": "Qx76n-4v-_uy"
   },
   "outputs": [],
   "source": [
    "# Call train_test_split on the data and capture the results\n",
    "X_train, X_test, y_train, y_test = train_test_split(X, y, test_size=0.2, random_state = 6858)"
   ]
  },
  {
   "cell_type": "code",
   "execution_count": null,
   "metadata": {
    "id": "wLEj28RWJ7Tx"
   },
   "outputs": [],
   "source": []
  },
  {
   "cell_type": "markdown",
   "metadata": {
    "id": "sI87onsF-_u0"
   },
   "source": [
    "## Lazy Predict helps build a lot of basic models without much code and helps understand which models works better without any parameter tuning"
   ]
  },
  {
   "cell_type": "code",
   "execution_count": null,
   "metadata": {
    "id": "WRkyFFZEJ03j"
   },
   "outputs": [],
   "source": [
    "# LazyClassifier Instance and fiting data\n",
    "\n",
    "clf = LazyClassifier(verbose=0, ignore_warnings=True, custom_metric=None)\n"
   ]
  },
  {
   "cell_type": "code",
   "execution_count": null,
   "metadata": {
    "colab": {
     "base_uri": "https://localhost:8080/"
    },
    "id": "7YnT552ePyyd",
    "outputId": "816005b6-fe9f-47c1-b6a1-8ebf44db7a83"
   },
   "outputs": [
    {
     "name": "stderr",
     "output_type": "stream",
     "text": [
      "100%|██████████| 29/29 [00:47<00:00,  1.62s/it]\n"
     ]
    }
   ],
   "source": [
    "models,predictions = clf.fit(X_train, X_test, y_train, y_test)"
   ]
  },
  {
   "cell_type": "markdown",
   "metadata": {
    "id": "LsOu0r4w-_u1"
   },
   "source": [
    "### Check which model did better on the dataset"
   ]
  },
  {
   "cell_type": "code",
   "execution_count": null,
   "metadata": {
    "colab": {
     "base_uri": "https://localhost:8080/",
     "height": 165
    },
    "id": "c-ogjqqkJ05t",
    "outputId": "2d122627-1723-4832-8a25-51411b9909b1"
   },
   "outputs": [
    {
     "ename": "NameError",
     "evalue": "ignored",
     "output_type": "error",
     "traceback": [
      "\u001b[0;31m---------------------------------------------------------------------------\u001b[0m",
      "\u001b[0;31mNameError\u001b[0m                                 Traceback (most recent call last)",
      "\u001b[0;32m<ipython-input-4-181ea416d56e>\u001b[0m in \u001b[0;36m<module>\u001b[0;34m()\u001b[0m\n\u001b[0;32m----> 1\u001b[0;31m \u001b[0mmodels\u001b[0m\u001b[0;34m\u001b[0m\u001b[0;34m\u001b[0m\u001b[0m\n\u001b[0m",
      "\u001b[0;31mNameError\u001b[0m: name 'models' is not defined"
     ]
    }
   ],
   "source": [
    "models"
   ]
  },
  {
   "cell_type": "code",
   "execution_count": null,
   "metadata": {
    "id": "GXMhQCLCJ071"
   },
   "outputs": [],
   "source": []
  },
  {
   "cell_type": "markdown",
   "metadata": {
    "id": "gl2kMXPo-_u1"
   },
   "source": [
    "## Analize Classifier Function"
   ]
  },
  {
   "cell_type": "code",
   "execution_count": null,
   "metadata": {
    "id": "dV10EyetQrJm"
   },
   "outputs": [],
   "source": [
    "from sklearn.metrics import r2_score, mean_absolute_error, mean_squared_error, euclidean_distances\n",
    "from sklearn.metrics import accuracy_score, confusion_matrix, roc_auc_score, recall_score, plot_confusion_matrix\n",
    "from sklearn.metrics import precision_score, f1_score, classification_report, balanced_accuracy_score"
   ]
  },
  {
   "cell_type": "code",
   "execution_count": null,
   "metadata": {
    "id": "bfdnC8py-_u1"
   },
   "outputs": [],
   "source": [
    "def analize_models(model, name, X_train, X_test, y_train, y_test):\n",
    "    \n",
    "    model.fit(X_train,y_train)    \n",
    "    y_pred = model.predict(X_test)\n",
    "    conf_matrix = confusion_matrix(y_test,y_pred,normalize='true')\n",
    "\n",
    "    scores = {'model': str(name),\n",
    "            'Accuracy':accuracy_score(y_test,y_pred),\n",
    "            'B-Accuracy':balanced_accuracy_score(y_test,y_pred),\n",
    "            'Roc_AUC':roc_auc_score(y_test,y_pred),\n",
    "            'F1 Score':f1_score(y_test,y_pred, average='macro'),\n",
    "            'Precision':precision_score(y_test,y_pred),\n",
    "            'Recall':recall_score(y_test,y_pred)}\n",
    "\n",
    "    print(model)\n",
    "    print('')\n",
    "    print(f'Accuracy : {accuracy_score(y_test,y_pred)}')\n",
    "    print(f'B-Accuracy :{balanced_accuracy_score(y_test,y_pred)}')\n",
    "    print(f'ROC - AUC : {roc_auc_score(y_test,y_pred)}')\n",
    "    print(f'F1 Score : {f1_score(y_test,y_pred, average=\"macro\")}')\n",
    "    print(f'Precision : {precision_score(y_test,y_pred)}')\n",
    "    print(f'Recall : {recall_score(y_test,y_pred)}')\n",
    "    print('')\n",
    "    print(conf_matrix)\n",
    "    print('')\n",
    "\n",
    "    plot_confusion_matrix(model, X_test, y_test, normalize='true')\n",
    "    \n",
    "\n",
    "    return scores"
   ]
  },
  {
   "cell_type": "code",
   "execution_count": null,
   "metadata": {
    "colab": {
     "base_uri": "https://localhost:8080/",
     "height": 165
    },
    "id": "2TiJras5-_u2",
    "outputId": "92096d85-8b5c-4c3b-b27d-67d8552eb9fd"
   },
   "outputs": [
    {
     "ename": "NameError",
     "evalue": "ignored",
     "output_type": "error",
     "traceback": [
      "\u001b[0;31m---------------------------------------------------------------------------\u001b[0m",
      "\u001b[0;31mNameError\u001b[0m                                 Traceback (most recent call last)",
      "\u001b[0;32m<ipython-input-3-ed28d1e7f907>\u001b[0m in \u001b[0;36m<module>\u001b[0;34m()\u001b[0m\n\u001b[0;32m----> 1\u001b[0;31m \u001b[0mmodels\u001b[0m\u001b[0;34m.\u001b[0m\u001b[0mhead\u001b[0m\u001b[0;34m(\u001b[0m\u001b[0;36m15\u001b[0m\u001b[0;34m)\u001b[0m\u001b[0;34m.\u001b[0m\u001b[0msort_values\u001b[0m\u001b[0;34m(\u001b[0m\u001b[0mby\u001b[0m\u001b[0;34m=\u001b[0m\u001b[0;34m'Balanced Accuracy'\u001b[0m\u001b[0;34m,\u001b[0m \u001b[0mascending\u001b[0m\u001b[0;34m=\u001b[0m\u001b[0;32mFalse\u001b[0m\u001b[0;34m)\u001b[0m\u001b[0;34m\u001b[0m\u001b[0;34m\u001b[0m\u001b[0m\n\u001b[0m",
      "\u001b[0;31mNameError\u001b[0m: name 'models' is not defined"
     ]
    }
   ],
   "source": [
    "models.head(15).sort_values(by='Balanced Accuracy', ascending=False)"
   ]
  },
  {
   "cell_type": "code",
   "execution_count": null,
   "metadata": {
    "id": "Tyh-3mKWJ0-I"
   },
   "outputs": [],
   "source": []
  },
  {
   "cell_type": "code",
   "execution_count": null,
   "metadata": {
    "id": "oISEyvMiJ1AW"
   },
   "outputs": [],
   "source": []
  },
  {
   "cell_type": "code",
   "execution_count": null,
   "metadata": {
    "id": "xcqyO_1CJ1Cs"
   },
   "outputs": [],
   "source": []
  },
  {
   "cell_type": "code",
   "execution_count": null,
   "metadata": {
    "id": "Jig6LA0nJ1Ex"
   },
   "outputs": [],
   "source": []
  },
  {
   "cell_type": "code",
   "execution_count": null,
   "metadata": {
    "id": "hUog8xFdJ1HJ"
   },
   "outputs": [],
   "source": []
  },
  {
   "cell_type": "code",
   "execution_count": null,
   "metadata": {
    "id": "YJPPPKcWyEl3"
   },
   "outputs": [],
   "source": [
    "\n",
    "\n",
    "# Set the figure size\n",
    "plt.rcParams[\"figure.figsize\"] = [7.50, 3.50]\n",
    "plt.rcParams[\"figure.autolayout\"] = True\n",
    "\n",
    "# Plot the dataframe\n",
    "ax = df[['max_wind_speed', 'avg_wind_speed','min_wind_speed']].plot(kind='box', title='boxplot')\n",
    "\n",
    "# Display the plot\n",
    "plt.show()"
   ]
  },
  {
   "cell_type": "code",
   "execution_count": null,
   "metadata": {
    "id": "30fViqN7ybq2"
   },
   "outputs": [],
   "source": [
    "ax = df[['max_temp', 'avg_temp', 'min_temp']].plot(kind='box', title='boxplot')\n",
    "\n",
    "# Display the plot\n",
    "plt.show()"
   ]
  },
  {
   "cell_type": "code",
   "execution_count": null,
   "metadata": {
    "id": "ketrFnZvyk6K"
   },
   "outputs": [],
   "source": [
    "ax = df[[\"DAY WITH FOGS\"]].plot(kind='box', title='boxplot')\n",
    "\n",
    "# Display the plot\n",
    "plt.show()"
   ]
  },
  {
   "cell_type": "code",
   "execution_count": null,
   "metadata": {
    "colab": {
     "base_uri": "https://localhost:8080/",
     "height": 206
    },
    "id": "D-p8vws089D5",
    "outputId": "05dcf15e-c04c-47e7-85f6-53629f1f74b8"
   },
   "outputs": [
    {
     "data": {
      "text/html": [
       "\n",
       "  <div id=\"df-c3cec6e7-1bb3-4db0-a842-21bb23948955\">\n",
       "    <div class=\"colab-df-container\">\n",
       "      <div>\n",
       "<style scoped>\n",
       "    .dataframe tbody tr th:only-of-type {\n",
       "        vertical-align: middle;\n",
       "    }\n",
       "\n",
       "    .dataframe tbody tr th {\n",
       "        vertical-align: top;\n",
       "    }\n",
       "\n",
       "    .dataframe thead th {\n",
       "        text-align: right;\n",
       "    }\n",
       "</style>\n",
       "<table border=\"1\" class=\"dataframe\">\n",
       "  <thead>\n",
       "    <tr style=\"text-align: right;\">\n",
       "      <th></th>\n",
       "      <th>count</th>\n",
       "      <th>unique</th>\n",
       "      <th>top</th>\n",
       "      <th>freq</th>\n",
       "      <th>NullAny</th>\n",
       "      <th>NullSum</th>\n",
       "      <th>NullPct</th>\n",
       "      <th>dtypes</th>\n",
       "    </tr>\n",
       "  </thead>\n",
       "  <tbody>\n",
       "    <tr>\n",
       "      <th>countryName</th>\n",
       "      <td>9500</td>\n",
       "      <td>32</td>\n",
       "      <td>United Kingdom</td>\n",
       "      <td>1287</td>\n",
       "      <td>False</td>\n",
       "      <td>0</td>\n",
       "      <td>0.0</td>\n",
       "      <td>object</td>\n",
       "    </tr>\n",
       "    <tr>\n",
       "      <th>eprtrSectorName</th>\n",
       "      <td>9500</td>\n",
       "      <td>9</td>\n",
       "      <td>Energy sector</td>\n",
       "      <td>3610</td>\n",
       "      <td>False</td>\n",
       "      <td>0</td>\n",
       "      <td>0.0</td>\n",
       "      <td>object</td>\n",
       "    </tr>\n",
       "    <tr>\n",
       "      <th>EPRTRAnnexIMainActivityLabel</th>\n",
       "      <td>9500</td>\n",
       "      <td>69</td>\n",
       "      <td>Thermal power stations and other combustion in...</td>\n",
       "      <td>3171</td>\n",
       "      <td>False</td>\n",
       "      <td>0</td>\n",
       "      <td>0.0</td>\n",
       "      <td>object</td>\n",
       "    </tr>\n",
       "    <tr>\n",
       "      <th>facilityName</th>\n",
       "      <td>9500</td>\n",
       "      <td>4497</td>\n",
       "      <td>Enel Produzione S.p.A.</td>\n",
       "      <td>33</td>\n",
       "      <td>False</td>\n",
       "      <td>0</td>\n",
       "      <td>0.0</td>\n",
       "      <td>object</td>\n",
       "    </tr>\n",
       "    <tr>\n",
       "      <th>CITY ID</th>\n",
       "      <td>9500</td>\n",
       "      <td>3277</td>\n",
       "      <td>cfab1ba8c67c7c838db98d666f02a132</td>\n",
       "      <td>279</td>\n",
       "      <td>False</td>\n",
       "      <td>0</td>\n",
       "      <td>0.0</td>\n",
       "      <td>object</td>\n",
       "    </tr>\n",
       "  </tbody>\n",
       "</table>\n",
       "</div>\n",
       "      <button class=\"colab-df-convert\" onclick=\"convertToInteractive('df-c3cec6e7-1bb3-4db0-a842-21bb23948955')\"\n",
       "              title=\"Convert this dataframe to an interactive table.\"\n",
       "              style=\"display:none;\">\n",
       "        \n",
       "  <svg xmlns=\"http://www.w3.org/2000/svg\" height=\"24px\"viewBox=\"0 0 24 24\"\n",
       "       width=\"24px\">\n",
       "    <path d=\"M0 0h24v24H0V0z\" fill=\"none\"/>\n",
       "    <path d=\"M18.56 5.44l.94 2.06.94-2.06 2.06-.94-2.06-.94-.94-2.06-.94 2.06-2.06.94zm-11 1L8.5 8.5l.94-2.06 2.06-.94-2.06-.94L8.5 2.5l-.94 2.06-2.06.94zm10 10l.94 2.06.94-2.06 2.06-.94-2.06-.94-.94-2.06-.94 2.06-2.06.94z\"/><path d=\"M17.41 7.96l-1.37-1.37c-.4-.4-.92-.59-1.43-.59-.52 0-1.04.2-1.43.59L10.3 9.45l-7.72 7.72c-.78.78-.78 2.05 0 2.83L4 21.41c.39.39.9.59 1.41.59.51 0 1.02-.2 1.41-.59l7.78-7.78 2.81-2.81c.8-.78.8-2.07 0-2.86zM5.41 20L4 18.59l7.72-7.72 1.47 1.35L5.41 20z\"/>\n",
       "  </svg>\n",
       "      </button>\n",
       "      \n",
       "  <style>\n",
       "    .colab-df-container {\n",
       "      display:flex;\n",
       "      flex-wrap:wrap;\n",
       "      gap: 12px;\n",
       "    }\n",
       "\n",
       "    .colab-df-convert {\n",
       "      background-color: #E8F0FE;\n",
       "      border: none;\n",
       "      border-radius: 50%;\n",
       "      cursor: pointer;\n",
       "      display: none;\n",
       "      fill: #1967D2;\n",
       "      height: 32px;\n",
       "      padding: 0 0 0 0;\n",
       "      width: 32px;\n",
       "    }\n",
       "\n",
       "    .colab-df-convert:hover {\n",
       "      background-color: #E2EBFA;\n",
       "      box-shadow: 0px 1px 2px rgba(60, 64, 67, 0.3), 0px 1px 3px 1px rgba(60, 64, 67, 0.15);\n",
       "      fill: #174EA6;\n",
       "    }\n",
       "\n",
       "    [theme=dark] .colab-df-convert {\n",
       "      background-color: #3B4455;\n",
       "      fill: #D2E3FC;\n",
       "    }\n",
       "\n",
       "    [theme=dark] .colab-df-convert:hover {\n",
       "      background-color: #434B5C;\n",
       "      box-shadow: 0px 1px 3px 1px rgba(0, 0, 0, 0.15);\n",
       "      filter: drop-shadow(0px 1px 2px rgba(0, 0, 0, 0.3));\n",
       "      fill: #FFFFFF;\n",
       "    }\n",
       "  </style>\n",
       "\n",
       "      <script>\n",
       "        const buttonEl =\n",
       "          document.querySelector('#df-c3cec6e7-1bb3-4db0-a842-21bb23948955 button.colab-df-convert');\n",
       "        buttonEl.style.display =\n",
       "          google.colab.kernel.accessAllowed ? 'block' : 'none';\n",
       "\n",
       "        async function convertToInteractive(key) {\n",
       "          const element = document.querySelector('#df-c3cec6e7-1bb3-4db0-a842-21bb23948955');\n",
       "          const dataTable =\n",
       "            await google.colab.kernel.invokeFunction('convertToInteractive',\n",
       "                                                     [key], {});\n",
       "          if (!dataTable) return;\n",
       "\n",
       "          const docLinkHtml = 'Like what you see? Visit the ' +\n",
       "            '<a target=\"_blank\" href=https://colab.research.google.com/notebooks/data_table.ipynb>data table notebook</a>'\n",
       "            + ' to learn more about interactive tables.';\n",
       "          element.innerHTML = '';\n",
       "          dataTable['output_type'] = 'display_data';\n",
       "          await google.colab.output.renderOutput(dataTable, element);\n",
       "          const docLink = document.createElement('div');\n",
       "          docLink.innerHTML = docLinkHtml;\n",
       "          element.appendChild(docLink);\n",
       "        }\n",
       "      </script>\n",
       "    </div>\n",
       "  </div>\n",
       "  "
      ],
      "text/plain": [
       "                              count  unique  \\\n",
       "countryName                    9500      32   \n",
       "eprtrSectorName                9500       9   \n",
       "EPRTRAnnexIMainActivityLabel   9500      69   \n",
       "facilityName                   9500    4497   \n",
       "CITY ID                        9500    3277   \n",
       "\n",
       "                                                                            top  \\\n",
       "countryName                                                      United Kingdom   \n",
       "eprtrSectorName                                                   Energy sector   \n",
       "EPRTRAnnexIMainActivityLabel  Thermal power stations and other combustion in...   \n",
       "facilityName                                             Enel Produzione S.p.A.   \n",
       "CITY ID                                        cfab1ba8c67c7c838db98d666f02a132   \n",
       "\n",
       "                              freq  NullAny  NullSum  NullPct  dtypes  \n",
       "countryName                   1287    False        0      0.0  object  \n",
       "eprtrSectorName               3610    False        0      0.0  object  \n",
       "EPRTRAnnexIMainActivityLabel  3171    False        0      0.0  object  \n",
       "facilityName                    33    False        0      0.0  object  \n",
       "CITY ID                        279    False        0      0.0  object  "
      ]
     },
     "execution_count": 407,
     "metadata": {},
     "output_type": "execute_result"
    }
   ],
   "source": [
    "describer(df[df.select_dtypes('object').columns])"
   ]
  },
  {
   "cell_type": "code",
   "execution_count": null,
   "metadata": {
    "id": "bc7zp_V089IU"
   },
   "outputs": [],
   "source": [
    "describer(df[df[\"facilityName\"]==\"Enel Produzione S.p.A.\"])"
   ]
  },
  {
   "cell_type": "code",
   "execution_count": null,
   "metadata": {
    "id": "7glWSDfYBBm_"
   },
   "outputs": [],
   "source": [
    "df[df[\"CITY ID\"]==\"cfab1ba8c67c7c838db98d666f02a132\"].reportingYear.value_counts()"
   ]
  },
  {
   "cell_type": "code",
   "execution_count": null,
   "metadata": {
    "id": "lPoga-oC_W88"
   },
   "outputs": [],
   "source": [
    "describer(df[df[\"CITY ID\"]==\"cfab1ba8c67c7c838db98d666f02a132\"])"
   ]
  },
  {
   "cell_type": "code",
   "execution_count": null,
   "metadata": {
    "id": "ej6U8keF_kZo"
   },
   "outputs": [],
   "source": [
    "df[df[\"CITY ID\"]==\"cfab1ba8c67c7c838db98d666f02a132\"]"
   ]
  },
  {
   "cell_type": "code",
   "execution_count": null,
   "metadata": {
    "id": "2_hBZ-Aa89NM"
   },
   "outputs": [],
   "source": [
    "df[df[\"facilityName\"]==\"Enel Produzione S.p.A.\"]"
   ]
  },
  {
   "cell_type": "code",
   "execution_count": null,
   "metadata": {
    "id": "CL0NIeEr89Rr"
   },
   "outputs": [],
   "source": []
  },
  {
   "cell_type": "code",
   "execution_count": null,
   "metadata": {
    "id": "fGhsro8589WE"
   },
   "outputs": [],
   "source": []
  },
  {
   "cell_type": "code",
   "execution_count": null,
   "metadata": {
    "id": "xDBCYRAD89ac"
   },
   "outputs": [],
   "source": []
  },
  {
   "cell_type": "code",
   "execution_count": null,
   "metadata": {
    "id": "zGAT25Ya89e7"
   },
   "outputs": [],
   "source": []
  },
  {
   "cell_type": "code",
   "execution_count": null,
   "metadata": {
    "id": "vWoN4cci0oMa"
   },
   "outputs": [],
   "source": [
    "# df.info()\n",
    "# df_csv.describe()\n",
    "# df_json.describe()\n",
    "# df.describe()\n",
    "# statistics.stdev(df[\"DAY WITH FOGS\"])\n",
    "# # Import Z-score function\n",
    "# from scipy.stats import zscore\n",
    "\n",
    "# # Define the SD threshold\n",
    "# thresh = 3\n",
    "\n",
    "# SD_outliers = df[[\"DAY WITH FOGS\"]].apply(lambda x: np.abs(zscore(x, nan_policy = 'omit')) > thresh).any(axis=1)\n",
    "# df[[\"DAY WITH FOGS\"]].index[SD_outliers]\n",
    "\n",
    "\n",
    "# # List of all rows as `True` or `False` depending on if they have a value above the threshold or not\n",
    "# SD_outliers = X_train.apply(lambda x: np.abs(zscore(x, nan_policy = 'omit')) > thresh).any(axis=1)\n",
    "\n",
    "\n",
    "# # Drop (inplace) rows that have True in SD_Norm\n",
    "# X_train.drop(X_train.index[SD_outliers], inplace = True)"
   ]
  },
  {
   "cell_type": "code",
   "execution_count": null,
   "metadata": {
    "id": "NPXkX-FTtU55"
   },
   "outputs": [],
   "source": []
  },
  {
   "cell_type": "code",
   "execution_count": null,
   "metadata": {
    "id": "jAQoi-uq57Zw"
   },
   "outputs": [],
   "source": [
    "\n",
    "# generate dataset\n",
    "X, y = make_classification(n_samples=100, n_features=20, n_informative=2)\n"
   ]
  },
  {
   "cell_type": "code",
   "execution_count": null,
   "metadata": {
    "id": "C3y1jFma6Yq5"
   },
   "outputs": [],
   "source": [
    "y=df['target'].values"
   ]
  },
  {
   "cell_type": "code",
   "execution_count": null,
   "metadata": {
    "colab": {
     "base_uri": "https://localhost:8080/"
    },
    "id": "8pJVpLZu6e70",
    "outputId": "10a9408f-031e-4f39-ad95-39c8376b4326"
   },
   "outputs": [
    {
     "data": {
      "text/plain": [
       "array([1, 0, 0, ..., 0, 2, 0])"
      ]
     },
     "execution_count": 388,
     "metadata": {},
     "output_type": "execute_result"
    }
   ],
   "source": [
    "y"
   ]
  },
  {
   "cell_type": "code",
   "execution_count": null,
   "metadata": {
    "colab": {
     "base_uri": "https://localhost:8080/"
    },
    "id": "cQpo4I0p7XbR",
    "outputId": "91d6f4f2-925d-46b9-833f-740221ab9277"
   },
   "outputs": [
    {
     "name": "stdout",
     "output_type": "stream",
     "text": [
      "(9500,)\n"
     ]
    }
   ],
   "source": [
    "\n",
    "print(y.shape)"
   ]
  },
  {
   "cell_type": "code",
   "execution_count": null,
   "metadata": {
    "colab": {
     "base_uri": "https://localhost:8080/"
    },
    "id": "jYJfStNa6AXP",
    "outputId": "b7021928-ddf5-4c20-862b-896eb5a53a3b"
   },
   "outputs": [
    {
     "data": {
      "text/plain": [
       "array([0, 0, 0, 1, 0, 0, 0, 0, 1, 1, 1, 1, 1, 0, 1, 1, 1, 0, 0, 1, 1, 1,\n",
       "       0, 0, 1, 1, 0, 1, 0, 0, 0, 0, 0, 0, 1, 0, 1, 1, 0, 0, 0, 0, 0, 0,\n",
       "       1, 0, 0, 1, 0, 0, 1, 1, 0, 0, 1, 1, 0, 1, 1, 1, 1, 1, 0, 0, 1, 1,\n",
       "       1, 1, 0, 1, 1, 1, 0, 0, 1, 0, 1, 0, 0, 0, 0, 1, 0, 1, 1, 1, 1, 1,\n",
       "       1, 0, 1, 0, 1, 1, 0, 0, 1, 1, 0, 0])"
      ]
     },
     "execution_count": 380,
     "metadata": {},
     "output_type": "execute_result"
    }
   ],
   "source": [
    "y"
   ]
  },
  {
   "cell_type": "code",
   "execution_count": null,
   "metadata": {
    "id": "byj2slXo6po4"
   },
   "outputs": [],
   "source": [
    "X = df[df.select_dtypes('number').columns].drop(columns=['target']).values"
   ]
  },
  {
   "cell_type": "code",
   "execution_count": null,
   "metadata": {
    "colab": {
     "base_uri": "https://localhost:8080/"
    },
    "id": "rhX1vPCJ6lNj",
    "outputId": "e4049406-9dd5-42c5-e26f-d34b97138030"
   },
   "outputs": [
    {
     "name": "stdout",
     "output_type": "stream",
     "text": [
      "(9500, 10)\n"
     ]
    }
   ],
   "source": [
    "\n",
    "print(X.shape)"
   ]
  },
  {
   "cell_type": "code",
   "execution_count": null,
   "metadata": {
    "colab": {
     "base_uri": "https://localhost:8080/"
    },
    "id": "Y_MoeC5q7e1L",
    "outputId": "ad077ef8-0f3a-4532-ed1f-816d8438c0df"
   },
   "outputs": [
    {
     "data": {
      "text/plain": [
       "array([[2.02000000e+03, 3.00000000e+00, 2.00000000e+00, ...,\n",
       "        1.23262344e+01, 1.46968954e+01, 1.00000000e+00],\n",
       "       [2.01900000e+03, 2.00000000e+00, 3.00000000e+00, ...,\n",
       "        5.11468848e+00, 9.21900340e+00, 2.00000000e+00],\n",
       "       [2.00900000e+03, 9.00000000e+00, 1.00000000e+00, ...,\n",
       "        1.02088371e+01, 1.47154651e+01, 1.20000000e+01],\n",
       "       ...,\n",
       "       [2.01100000e+03, 5.00000000e+00, 2.50000000e+01, ...,\n",
       "        1.62732343e+01, 2.03307927e+01, 2.00000000e+00],\n",
       "       [2.01100000e+03, 5.00000000e+00, 2.30000000e+01, ...,\n",
       "        1.56109271e+01, 2.02226021e+01, 1.20000000e+01],\n",
       "       [2.01000000e+03, 9.00000000e+00, 3.00000000e+00, ...,\n",
       "        3.16269028e+00, 6.11534364e+00, 2.00000000e+00]])"
      ]
     },
     "execution_count": 397,
     "metadata": {},
     "output_type": "execute_result"
    }
   ],
   "source": [
    "X"
   ]
  },
  {
   "cell_type": "code",
   "execution_count": null,
   "metadata": {
    "colab": {
     "base_uri": "https://localhost:8080/"
    },
    "id": "Yof0Tlsx5-1y",
    "outputId": "76931f4d-485d-403a-e9f4-4e54e505f629"
   },
   "outputs": [
    {
     "data": {
      "text/plain": [
       "array([[-0.2404983 , -0.26683029, -1.80541662, ..., -0.76323861,\n",
       "         0.23550136, -0.13569883],\n",
       "       [-0.65706189,  0.18928333, -0.11946401, ..., -0.26040084,\n",
       "         0.8084616 , -0.10428183],\n",
       "       [ 0.46988543,  1.4171953 ,  0.96771505, ..., -2.30756078,\n",
       "        -1.73304007, -0.16243867],\n",
       "       ...,\n",
       "       [ 1.15651429, -0.77567662, -0.2899093 , ...,  0.68113182,\n",
       "        -0.70791982, -1.53333665],\n",
       "       [ 0.17009692, -1.30536522,  0.09645506, ..., -0.05888199,\n",
       "         1.10469808,  0.77414048],\n",
       "       [ 1.2048644 ,  0.37549435, -1.24179862, ..., -1.78900392,\n",
       "        -1.05215281, -1.59849675]])"
      ]
     },
     "execution_count": 379,
     "metadata": {},
     "output_type": "execute_result"
    }
   ],
   "source": [
    "X"
   ]
  },
  {
   "cell_type": "code",
   "execution_count": null,
   "metadata": {
    "id": "zqwsrWf958aC"
   },
   "outputs": [],
   "source": [
    "\n",
    "# define feature selection\n",
    "fs = SelectKBest(score_func=f_classif, k=9)\n"
   ]
  },
  {
   "cell_type": "code",
   "execution_count": null,
   "metadata": {
    "colab": {
     "base_uri": "https://localhost:8080/"
    },
    "id": "TCL2HD5_6FYh",
    "outputId": "47dfb6a5-9257-41e1-df51-a588aaad5543"
   },
   "outputs": [
    {
     "data": {
      "text/plain": [
       "SelectKBest(k=3)"
      ]
     },
     "execution_count": 399,
     "metadata": {},
     "output_type": "execute_result"
    }
   ],
   "source": [
    "fs"
   ]
  },
  {
   "cell_type": "code",
   "execution_count": null,
   "metadata": {
    "colab": {
     "base_uri": "https://localhost:8080/"
    },
    "id": "CcyGziBt59FW",
    "outputId": "7d312d3f-8118-4ea4-d864-0e35e7076eeb"
   },
   "outputs": [
    {
     "data": {
      "text/plain": [
       "array([[2.02000000e+03, 3.00000000e+00, 2.00000000e+00, ...,\n",
       "        1.23262344e+01, 1.46968954e+01, 1.00000000e+00],\n",
       "       [2.01900000e+03, 2.00000000e+00, 3.00000000e+00, ...,\n",
       "        5.11468848e+00, 9.21900340e+00, 2.00000000e+00],\n",
       "       [2.00900000e+03, 9.00000000e+00, 1.00000000e+00, ...,\n",
       "        1.02088371e+01, 1.47154651e+01, 1.20000000e+01],\n",
       "       ...,\n",
       "       [2.01100000e+03, 5.00000000e+00, 2.50000000e+01, ...,\n",
       "        1.62732343e+01, 2.03307927e+01, 2.00000000e+00],\n",
       "       [2.01100000e+03, 5.00000000e+00, 2.30000000e+01, ...,\n",
       "        1.56109271e+01, 2.02226021e+01, 1.20000000e+01],\n",
       "       [2.01000000e+03, 9.00000000e+00, 3.00000000e+00, ...,\n",
       "        3.16269028e+00, 6.11534364e+00, 2.00000000e+00]])"
      ]
     },
     "execution_count": 404,
     "metadata": {},
     "output_type": "execute_result"
    }
   ],
   "source": [
    "# apply feature selection\n",
    "X_selected = fs.fit_transform(X, y)\n",
    "X_selected"
   ]
  },
  {
   "cell_type": "code",
   "execution_count": null,
   "metadata": {
    "colab": {
     "base_uri": "https://localhost:8080/"
    },
    "id": "vdgK8lD96H7w",
    "outputId": "6c38fd4c-ad30-4047-aca6-9b39cce56605"
   },
   "outputs": [
    {
     "name": "stdout",
     "output_type": "stream",
     "text": [
      "(9500, 3)\n"
     ]
    }
   ],
   "source": [
    "\n",
    "print(X_selected.shape)"
   ]
  },
  {
   "cell_type": "code",
   "execution_count": null,
   "metadata": {
    "colab": {
     "base_uri": "https://localhost:8080/"
    },
    "id": "mmmPOult793U",
    "outputId": "cb28ce0d-bce4-42e4-e54a-78cc98267f55"
   },
   "outputs": [
    {
     "data": {
      "text/plain": [
       "array([2.02000000e+03, 3.00000000e+00, 2.00000000e+00, 1.10193287e+01,\n",
       "       1.56864502e+01, 1.32568160e+01, 1.23262344e+01, 1.46968954e+01,\n",
       "       1.00000000e+00])"
      ]
     },
     "execution_count": 405,
     "metadata": {},
     "output_type": "execute_result"
    }
   ],
   "source": [
    "X_selected[0]"
   ]
  },
  {
   "cell_type": "code",
   "execution_count": null,
   "metadata": {
    "colab": {
     "base_uri": "https://localhost:8080/",
     "height": 424
    },
    "id": "d0hT3zR3tVCN",
    "outputId": "2babbaa6-aa73-4662-9768-953cd4bbe9e4"
   },
   "outputs": [
    {
     "data": {
      "text/html": [
       "\n",
       "  <div id=\"df-7fed6fcf-f1b8-4fd4-970b-20cb0dfbdfe8\">\n",
       "    <div class=\"colab-df-container\">\n",
       "      <div>\n",
       "<style scoped>\n",
       "    .dataframe tbody tr th:only-of-type {\n",
       "        vertical-align: middle;\n",
       "    }\n",
       "\n",
       "    .dataframe tbody tr th {\n",
       "        vertical-align: top;\n",
       "    }\n",
       "\n",
       "    .dataframe thead th {\n",
       "        text-align: right;\n",
       "    }\n",
       "</style>\n",
       "<table border=\"1\" class=\"dataframe\">\n",
       "  <thead>\n",
       "    <tr style=\"text-align: right;\">\n",
       "      <th></th>\n",
       "      <th>reportingYear</th>\n",
       "      <th>MONTH</th>\n",
       "      <th>DAY</th>\n",
       "      <th>max_wind_speed</th>\n",
       "      <th>avg_wind_speed</th>\n",
       "      <th>min_wind_speed</th>\n",
       "      <th>max_temp</th>\n",
       "      <th>avg_temp</th>\n",
       "      <th>min_temp</th>\n",
       "      <th>DAY WITH FOGS</th>\n",
       "    </tr>\n",
       "  </thead>\n",
       "  <tbody>\n",
       "    <tr>\n",
       "      <th>0</th>\n",
       "      <td>2020</td>\n",
       "      <td>3</td>\n",
       "      <td>2</td>\n",
       "      <td>11.019329</td>\n",
       "      <td>15.686450</td>\n",
       "      <td>20.899762</td>\n",
       "      <td>13.256816</td>\n",
       "      <td>12.326234</td>\n",
       "      <td>14.696895</td>\n",
       "      <td>1</td>\n",
       "    </tr>\n",
       "    <tr>\n",
       "      <th>1</th>\n",
       "      <td>2019</td>\n",
       "      <td>2</td>\n",
       "      <td>3</td>\n",
       "      <td>14.512395</td>\n",
       "      <td>18.396180</td>\n",
       "      <td>23.243403</td>\n",
       "      <td>4.528859</td>\n",
       "      <td>5.114688</td>\n",
       "      <td>9.219003</td>\n",
       "      <td>2</td>\n",
       "    </tr>\n",
       "    <tr>\n",
       "      <th>2</th>\n",
       "      <td>2009</td>\n",
       "      <td>9</td>\n",
       "      <td>1</td>\n",
       "      <td>20.262171</td>\n",
       "      <td>21.856210</td>\n",
       "      <td>23.956529</td>\n",
       "      <td>10.669133</td>\n",
       "      <td>10.208837</td>\n",
       "      <td>14.715465</td>\n",
       "      <td>12</td>\n",
       "    </tr>\n",
       "    <tr>\n",
       "      <th>3</th>\n",
       "      <td>2014</td>\n",
       "      <td>10</td>\n",
       "      <td>17</td>\n",
       "      <td>18.283547</td>\n",
       "      <td>19.195731</td>\n",
       "      <td>26.696266</td>\n",
       "      <td>7.095682</td>\n",
       "      <td>9.502302</td>\n",
       "      <td>13.582024</td>\n",
       "      <td>1</td>\n",
       "    </tr>\n",
       "    <tr>\n",
       "      <th>4</th>\n",
       "      <td>2015</td>\n",
       "      <td>9</td>\n",
       "      <td>6</td>\n",
       "      <td>13.759408</td>\n",
       "      <td>18.277089</td>\n",
       "      <td>24.768933</td>\n",
       "      <td>9.886774</td>\n",
       "      <td>11.585550</td>\n",
       "      <td>14.006226</td>\n",
       "      <td>0</td>\n",
       "    </tr>\n",
       "    <tr>\n",
       "      <th>...</th>\n",
       "      <td>...</td>\n",
       "      <td>...</td>\n",
       "      <td>...</td>\n",
       "      <td>...</td>\n",
       "      <td>...</td>\n",
       "      <td>...</td>\n",
       "      <td>...</td>\n",
       "      <td>...</td>\n",
       "      <td>...</td>\n",
       "      <td>...</td>\n",
       "    </tr>\n",
       "    <tr>\n",
       "      <th>9495</th>\n",
       "      <td>2019</td>\n",
       "      <td>10</td>\n",
       "      <td>8</td>\n",
       "      <td>15.413159</td>\n",
       "      <td>21.278369</td>\n",
       "      <td>22.654744</td>\n",
       "      <td>3.172374</td>\n",
       "      <td>4.669928</td>\n",
       "      <td>7.163001</td>\n",
       "      <td>6</td>\n",
       "    </tr>\n",
       "    <tr>\n",
       "      <th>9496</th>\n",
       "      <td>2009</td>\n",
       "      <td>6</td>\n",
       "      <td>18</td>\n",
       "      <td>15.391686</td>\n",
       "      <td>21.184836</td>\n",
       "      <td>25.052323</td>\n",
       "      <td>6.677630</td>\n",
       "      <td>8.710501</td>\n",
       "      <td>10.114623</td>\n",
       "      <td>0</td>\n",
       "    </tr>\n",
       "    <tr>\n",
       "      <th>9497</th>\n",
       "      <td>2011</td>\n",
       "      <td>5</td>\n",
       "      <td>25</td>\n",
       "      <td>10.223493</td>\n",
       "      <td>14.072257</td>\n",
       "      <td>18.279947</td>\n",
       "      <td>16.032472</td>\n",
       "      <td>16.273234</td>\n",
       "      <td>20.330793</td>\n",
       "      <td>2</td>\n",
       "    </tr>\n",
       "    <tr>\n",
       "      <th>9498</th>\n",
       "      <td>2011</td>\n",
       "      <td>5</td>\n",
       "      <td>23</td>\n",
       "      <td>11.199091</td>\n",
       "      <td>16.597921</td>\n",
       "      <td>21.472440</td>\n",
       "      <td>16.425340</td>\n",
       "      <td>15.610927</td>\n",
       "      <td>20.222602</td>\n",
       "      <td>12</td>\n",
       "    </tr>\n",
       "    <tr>\n",
       "      <th>9499</th>\n",
       "      <td>2010</td>\n",
       "      <td>9</td>\n",
       "      <td>3</td>\n",
       "      <td>12.025946</td>\n",
       "      <td>16.528164</td>\n",
       "      <td>23.020178</td>\n",
       "      <td>2.650907</td>\n",
       "      <td>3.162690</td>\n",
       "      <td>6.115344</td>\n",
       "      <td>2</td>\n",
       "    </tr>\n",
       "  </tbody>\n",
       "</table>\n",
       "<p>9500 rows × 10 columns</p>\n",
       "</div>\n",
       "      <button class=\"colab-df-convert\" onclick=\"convertToInteractive('df-7fed6fcf-f1b8-4fd4-970b-20cb0dfbdfe8')\"\n",
       "              title=\"Convert this dataframe to an interactive table.\"\n",
       "              style=\"display:none;\">\n",
       "        \n",
       "  <svg xmlns=\"http://www.w3.org/2000/svg\" height=\"24px\"viewBox=\"0 0 24 24\"\n",
       "       width=\"24px\">\n",
       "    <path d=\"M0 0h24v24H0V0z\" fill=\"none\"/>\n",
       "    <path d=\"M18.56 5.44l.94 2.06.94-2.06 2.06-.94-2.06-.94-.94-2.06-.94 2.06-2.06.94zm-11 1L8.5 8.5l.94-2.06 2.06-.94-2.06-.94L8.5 2.5l-.94 2.06-2.06.94zm10 10l.94 2.06.94-2.06 2.06-.94-2.06-.94-.94-2.06-.94 2.06-2.06.94z\"/><path d=\"M17.41 7.96l-1.37-1.37c-.4-.4-.92-.59-1.43-.59-.52 0-1.04.2-1.43.59L10.3 9.45l-7.72 7.72c-.78.78-.78 2.05 0 2.83L4 21.41c.39.39.9.59 1.41.59.51 0 1.02-.2 1.41-.59l7.78-7.78 2.81-2.81c.8-.78.8-2.07 0-2.86zM5.41 20L4 18.59l7.72-7.72 1.47 1.35L5.41 20z\"/>\n",
       "  </svg>\n",
       "      </button>\n",
       "      \n",
       "  <style>\n",
       "    .colab-df-container {\n",
       "      display:flex;\n",
       "      flex-wrap:wrap;\n",
       "      gap: 12px;\n",
       "    }\n",
       "\n",
       "    .colab-df-convert {\n",
       "      background-color: #E8F0FE;\n",
       "      border: none;\n",
       "      border-radius: 50%;\n",
       "      cursor: pointer;\n",
       "      display: none;\n",
       "      fill: #1967D2;\n",
       "      height: 32px;\n",
       "      padding: 0 0 0 0;\n",
       "      width: 32px;\n",
       "    }\n",
       "\n",
       "    .colab-df-convert:hover {\n",
       "      background-color: #E2EBFA;\n",
       "      box-shadow: 0px 1px 2px rgba(60, 64, 67, 0.3), 0px 1px 3px 1px rgba(60, 64, 67, 0.15);\n",
       "      fill: #174EA6;\n",
       "    }\n",
       "\n",
       "    [theme=dark] .colab-df-convert {\n",
       "      background-color: #3B4455;\n",
       "      fill: #D2E3FC;\n",
       "    }\n",
       "\n",
       "    [theme=dark] .colab-df-convert:hover {\n",
       "      background-color: #434B5C;\n",
       "      box-shadow: 0px 1px 3px 1px rgba(0, 0, 0, 0.15);\n",
       "      filter: drop-shadow(0px 1px 2px rgba(0, 0, 0, 0.3));\n",
       "      fill: #FFFFFF;\n",
       "    }\n",
       "  </style>\n",
       "\n",
       "      <script>\n",
       "        const buttonEl =\n",
       "          document.querySelector('#df-7fed6fcf-f1b8-4fd4-970b-20cb0dfbdfe8 button.colab-df-convert');\n",
       "        buttonEl.style.display =\n",
       "          google.colab.kernel.accessAllowed ? 'block' : 'none';\n",
       "\n",
       "        async function convertToInteractive(key) {\n",
       "          const element = document.querySelector('#df-7fed6fcf-f1b8-4fd4-970b-20cb0dfbdfe8');\n",
       "          const dataTable =\n",
       "            await google.colab.kernel.invokeFunction('convertToInteractive',\n",
       "                                                     [key], {});\n",
       "          if (!dataTable) return;\n",
       "\n",
       "          const docLinkHtml = 'Like what you see? Visit the ' +\n",
       "            '<a target=\"_blank\" href=https://colab.research.google.com/notebooks/data_table.ipynb>data table notebook</a>'\n",
       "            + ' to learn more about interactive tables.';\n",
       "          element.innerHTML = '';\n",
       "          dataTable['output_type'] = 'display_data';\n",
       "          await google.colab.output.renderOutput(dataTable, element);\n",
       "          const docLink = document.createElement('div');\n",
       "          docLink.innerHTML = docLinkHtml;\n",
       "          element.appendChild(docLink);\n",
       "        }\n",
       "      </script>\n",
       "    </div>\n",
       "  </div>\n",
       "  "
      ],
      "text/plain": [
       "      reportingYear  MONTH  DAY  max_wind_speed  avg_wind_speed  \\\n",
       "0              2020      3    2       11.019329       15.686450   \n",
       "1              2019      2    3       14.512395       18.396180   \n",
       "2              2009      9    1       20.262171       21.856210   \n",
       "3              2014     10   17       18.283547       19.195731   \n",
       "4              2015      9    6       13.759408       18.277089   \n",
       "...             ...    ...  ...             ...             ...   \n",
       "9495           2019     10    8       15.413159       21.278369   \n",
       "9496           2009      6   18       15.391686       21.184836   \n",
       "9497           2011      5   25       10.223493       14.072257   \n",
       "9498           2011      5   23       11.199091       16.597921   \n",
       "9499           2010      9    3       12.025946       16.528164   \n",
       "\n",
       "      min_wind_speed   max_temp   avg_temp   min_temp  DAY WITH FOGS  \n",
       "0          20.899762  13.256816  12.326234  14.696895              1  \n",
       "1          23.243403   4.528859   5.114688   9.219003              2  \n",
       "2          23.956529  10.669133  10.208837  14.715465             12  \n",
       "3          26.696266   7.095682   9.502302  13.582024              1  \n",
       "4          24.768933   9.886774  11.585550  14.006226              0  \n",
       "...              ...        ...        ...        ...            ...  \n",
       "9495       22.654744   3.172374   4.669928   7.163001              6  \n",
       "9496       25.052323   6.677630   8.710501  10.114623              0  \n",
       "9497       18.279947  16.032472  16.273234  20.330793              2  \n",
       "9498       21.472440  16.425340  15.610927  20.222602             12  \n",
       "9499       23.020178   2.650907   3.162690   6.115344              2  \n",
       "\n",
       "[9500 rows x 10 columns]"
      ]
     },
     "execution_count": 402,
     "metadata": {},
     "output_type": "execute_result"
    }
   ],
   "source": [
    " df[df.select_dtypes('number').columns].drop(columns=['target'])"
   ]
  },
  {
   "cell_type": "code",
   "execution_count": null,
   "metadata": {
    "id": "7wBlHTWAtVJ6"
   },
   "outputs": [],
   "source": []
  },
  {
   "cell_type": "code",
   "execution_count": null,
   "metadata": {
    "id": "TOJ8dPQvtVOa"
   },
   "outputs": [],
   "source": []
  },
  {
   "cell_type": "code",
   "execution_count": null,
   "metadata": {
    "id": "Ja1FfrEktVUR"
   },
   "outputs": [],
   "source": []
  },
  {
   "cell_type": "code",
   "execution_count": null,
   "metadata": {
    "id": "K6tuqTcZtVbg"
   },
   "outputs": [],
   "source": []
  },
  {
   "cell_type": "code",
   "execution_count": null,
   "metadata": {
    "id": "uTEEfChstVfl"
   },
   "outputs": [],
   "source": []
  },
  {
   "cell_type": "code",
   "execution_count": null,
   "metadata": {
    "id": "denvTgIUtVjb"
   },
   "outputs": [],
   "source": []
  },
  {
   "cell_type": "code",
   "execution_count": null,
   "metadata": {
    "id": "LCga2qgJtVnE"
   },
   "outputs": [],
   "source": []
  },
  {
   "cell_type": "code",
   "execution_count": null,
   "metadata": {
    "id": "io1FBsIttMjL"
   },
   "outputs": [],
   "source": [
    "df['target']"
   ]
  },
  {
   "cell_type": "code",
   "execution_count": null,
   "metadata": {
    "id": "RJaHSVXKtPRs"
   },
   "outputs": [],
   "source": [
    "df_3['pollutant']"
   ]
  },
  {
   "cell_type": "code",
   "execution_count": null,
   "metadata": {
    "colab": {
     "base_uri": "https://localhost:8080/"
    },
    "id": "UxnXj844qWib",
    "outputId": "87fefc35-0d13-4fa0-8187-89acd8fa39d5"
   },
   "outputs": [
    {
     "data": {
      "text/plain": [
       "Index(['countryName', 'eprtrSectorName', 'EPRTRAnnexIMainActivityCode',\n",
       "       'EPRTRAnnexIMainActivityLabel', 'FacilityInspireID', 'facilityName',\n",
       "       'City', 'targetRelease', 'CONTINENT', 'REPORTER NAME', 'CITY ID'],\n",
       "      dtype='object')"
      ]
     },
     "execution_count": 293,
     "metadata": {},
     "output_type": "execute_result"
    }
   ],
   "source": [
    "test_x.select_dtypes('object').columns"
   ]
  },
  {
   "cell_type": "code",
   "execution_count": null,
   "metadata": {
    "id": "nVtPm8bYgUFT"
   },
   "outputs": [],
   "source": [
    "df_json[df_csv.select_dtypes('int').columns] = df_csv[df_csv.select_dtypes('int').columns].astype(\"int64\")\n",
    "df_json[df_csv.select_dtypes('float').columns] = df_json[df_csv.select_dtypes('float').columns].astype(\"float64\")"
   ]
  },
  {
   "cell_type": "code",
   "execution_count": null,
   "metadata": {
    "id": "Sb7UJl9MhQh7"
   },
   "outputs": [],
   "source": [
    "cols = list(set(df_csv.columns).intersection(df_json.columns))\n",
    "cols.sort()"
   ]
  },
  {
   "cell_type": "code",
   "execution_count": null,
   "metadata": {
    "id": "LVJQe-DRgTdZ"
   },
   "outputs": [],
   "source": [
    "\n",
    "df = pd.concat([df_csv[cols],df_json[cols]])"
   ]
  },
  {
   "cell_type": "code",
   "execution_count": null,
   "metadata": {
    "id": "qqlDjbH6nIH8"
   },
   "outputs": [],
   "source": [
    "df[[\"reportingYear\", \"MONTH\", \"DAY\"]] = df[[\"reportingYear\", \"MONTH\", \"DAY\"]].astype(\"int\").astype(\"str\")"
   ]
  },
  {
   "cell_type": "code",
   "execution_count": null,
   "metadata": {
    "id": "Hmr55sximII-"
   },
   "outputs": [],
   "source": [
    "df[\"date\"] = pd.to_datetime(df[\"reportingYear\"]+\"-\"+df[\"MONTH\"]+\"-\"+df[\"DAY\"])"
   ]
  },
  {
   "cell_type": "code",
   "execution_count": null,
   "metadata": {
    "colab": {
     "base_uri": "https://localhost:8080/",
     "height": 690
    },
    "id": "N8V6-_UEyrfX",
    "outputId": "12029307-43c1-44bf-ccda-c2a0428fdfaa"
   },
   "outputs": [
    {
     "name": "stderr",
     "output_type": "stream",
     "text": [
      "/usr/local/lib/python3.7/dist-packages/ipykernel_launcher.py:16: FutureWarning: Treating datetime data as categorical rather than numeric in `.describe` is deprecated and will be removed in a future version of pandas. Specify `datetime_is_numeric=True` to silence this warning and adopt the future behavior now.\n",
      "  app.launch_new_instance()\n"
     ]
    },
    {
     "data": {
      "text/html": [
       "\n",
       "  <div id=\"df-c6c54802-8536-44b6-9a6d-fcc686ea5f94\">\n",
       "    <div class=\"colab-df-container\">\n",
       "      <div>\n",
       "<style scoped>\n",
       "    .dataframe tbody tr th:only-of-type {\n",
       "        vertical-align: middle;\n",
       "    }\n",
       "\n",
       "    .dataframe tbody tr th {\n",
       "        vertical-align: top;\n",
       "    }\n",
       "\n",
       "    .dataframe thead th {\n",
       "        text-align: right;\n",
       "    }\n",
       "</style>\n",
       "<table border=\"1\" class=\"dataframe\">\n",
       "  <thead>\n",
       "    <tr style=\"text-align: right;\">\n",
       "      <th></th>\n",
       "      <th>count</th>\n",
       "      <th>unique</th>\n",
       "      <th>top</th>\n",
       "      <th>freq</th>\n",
       "      <th>first</th>\n",
       "      <th>last</th>\n",
       "      <th>mean</th>\n",
       "      <th>std</th>\n",
       "      <th>min</th>\n",
       "      <th>25%</th>\n",
       "      <th>50%</th>\n",
       "      <th>75%</th>\n",
       "      <th>max</th>\n",
       "      <th>NullAny</th>\n",
       "      <th>NullSum</th>\n",
       "      <th>NullPct</th>\n",
       "      <th>dtypes</th>\n",
       "    </tr>\n",
       "  </thead>\n",
       "  <tbody>\n",
       "    <tr>\n",
       "      <th>DAY</th>\n",
       "      <td>61853</td>\n",
       "      <td>28</td>\n",
       "      <td>NaN</td>\n",
       "      <td>NaN</td>\n",
       "      <td>NaT</td>\n",
       "      <td>NaT</td>\n",
       "      <td>14.5</td>\n",
       "      <td>8.13</td>\n",
       "      <td>1.0</td>\n",
       "      <td>7.0</td>\n",
       "      <td>14.0</td>\n",
       "      <td>22.0</td>\n",
       "      <td>28.0</td>\n",
       "      <td>False</td>\n",
       "      <td>0</td>\n",
       "      <td>0.0</td>\n",
       "      <td>int64</td>\n",
       "    </tr>\n",
       "    <tr>\n",
       "      <th>DAY WITH FOGS</th>\n",
       "      <td>61853</td>\n",
       "      <td>20</td>\n",
       "      <td>NaN</td>\n",
       "      <td>NaN</td>\n",
       "      <td>NaT</td>\n",
       "      <td>NaT</td>\n",
       "      <td>2.21</td>\n",
       "      <td>3.73</td>\n",
       "      <td>0.0</td>\n",
       "      <td>0.0</td>\n",
       "      <td>1.0</td>\n",
       "      <td>2.0</td>\n",
       "      <td>19.0</td>\n",
       "      <td>False</td>\n",
       "      <td>0</td>\n",
       "      <td>0.0</td>\n",
       "      <td>int64</td>\n",
       "    </tr>\n",
       "    <tr>\n",
       "      <th>MONTH</th>\n",
       "      <td>61853</td>\n",
       "      <td>12</td>\n",
       "      <td>NaN</td>\n",
       "      <td>NaN</td>\n",
       "      <td>NaT</td>\n",
       "      <td>NaT</td>\n",
       "      <td>6.46</td>\n",
       "      <td>3.46</td>\n",
       "      <td>1.0</td>\n",
       "      <td>3.0</td>\n",
       "      <td>6.0</td>\n",
       "      <td>9.0</td>\n",
       "      <td>12.0</td>\n",
       "      <td>False</td>\n",
       "      <td>0</td>\n",
       "      <td>0.0</td>\n",
       "      <td>int64</td>\n",
       "    </tr>\n",
       "    <tr>\n",
       "      <th>reportingYear</th>\n",
       "      <td>61853</td>\n",
       "      <td>14</td>\n",
       "      <td>NaN</td>\n",
       "      <td>NaN</td>\n",
       "      <td>NaT</td>\n",
       "      <td>NaT</td>\n",
       "      <td>2012.98</td>\n",
       "      <td>3.86</td>\n",
       "      <td>2007.0</td>\n",
       "      <td>2010.0</td>\n",
       "      <td>2013.0</td>\n",
       "      <td>2016.0</td>\n",
       "      <td>2020.0</td>\n",
       "      <td>False</td>\n",
       "      <td>0</td>\n",
       "      <td>0.0</td>\n",
       "      <td>int64</td>\n",
       "    </tr>\n",
       "    <tr>\n",
       "      <th>min_wind_speed</th>\n",
       "      <td>61853</td>\n",
       "      <td>57060</td>\n",
       "      <td>NaN</td>\n",
       "      <td>NaN</td>\n",
       "      <td>NaT</td>\n",
       "      <td>NaT</td>\n",
       "      <td>22.52</td>\n",
       "      <td>3.06</td>\n",
       "      <td>15.03</td>\n",
       "      <td>20.35</td>\n",
       "      <td>22.54</td>\n",
       "      <td>24.71</td>\n",
       "      <td>29.93</td>\n",
       "      <td>False</td>\n",
       "      <td>0</td>\n",
       "      <td>0.0</td>\n",
       "      <td>float64</td>\n",
       "    </tr>\n",
       "    <tr>\n",
       "      <th>min_temp</th>\n",
       "      <td>61853</td>\n",
       "      <td>57060</td>\n",
       "      <td>NaN</td>\n",
       "      <td>NaN</td>\n",
       "      <td>NaT</td>\n",
       "      <td>NaT</td>\n",
       "      <td>13.45</td>\n",
       "      <td>5.22</td>\n",
       "      <td>0.89</td>\n",
       "      <td>9.9</td>\n",
       "      <td>13.69</td>\n",
       "      <td>17.28</td>\n",
       "      <td>24.9</td>\n",
       "      <td>False</td>\n",
       "      <td>0</td>\n",
       "      <td>0.0</td>\n",
       "      <td>float64</td>\n",
       "    </tr>\n",
       "    <tr>\n",
       "      <th>max_wind_speed</th>\n",
       "      <td>61853</td>\n",
       "      <td>57060</td>\n",
       "      <td>NaN</td>\n",
       "      <td>NaN</td>\n",
       "      <td>NaT</td>\n",
       "      <td>NaT</td>\n",
       "      <td>15.52</td>\n",
       "      <td>3.07</td>\n",
       "      <td>8.01</td>\n",
       "      <td>13.33</td>\n",
       "      <td>15.51</td>\n",
       "      <td>17.72</td>\n",
       "      <td>22.99</td>\n",
       "      <td>False</td>\n",
       "      <td>0</td>\n",
       "      <td>0.0</td>\n",
       "      <td>float64</td>\n",
       "    </tr>\n",
       "    <tr>\n",
       "      <th>max_temp</th>\n",
       "      <td>61853</td>\n",
       "      <td>57060</td>\n",
       "      <td>NaN</td>\n",
       "      <td>NaN</td>\n",
       "      <td>NaT</td>\n",
       "      <td>NaT</td>\n",
       "      <td>9.46</td>\n",
       "      <td>5.21</td>\n",
       "      <td>-3.14</td>\n",
       "      <td>5.89</td>\n",
       "      <td>9.69</td>\n",
       "      <td>13.29</td>\n",
       "      <td>20.94</td>\n",
       "      <td>False</td>\n",
       "      <td>0</td>\n",
       "      <td>0.0</td>\n",
       "      <td>float64</td>\n",
       "    </tr>\n",
       "    <tr>\n",
       "      <th>avg_temp</th>\n",
       "      <td>61853</td>\n",
       "      <td>57060</td>\n",
       "      <td>NaN</td>\n",
       "      <td>NaN</td>\n",
       "      <td>NaT</td>\n",
       "      <td>NaT</td>\n",
       "      <td>10.45</td>\n",
       "      <td>5.08</td>\n",
       "      <td>-0.2</td>\n",
       "      <td>7.19</td>\n",
       "      <td>10.7</td>\n",
       "      <td>14.2</td>\n",
       "      <td>20.0</td>\n",
       "      <td>False</td>\n",
       "      <td>0</td>\n",
       "      <td>0.0</td>\n",
       "      <td>float64</td>\n",
       "    </tr>\n",
       "    <tr>\n",
       "      <th>avg_wind_speed</th>\n",
       "      <td>61853</td>\n",
       "      <td>57060</td>\n",
       "      <td>NaN</td>\n",
       "      <td>NaN</td>\n",
       "      <td>NaT</td>\n",
       "      <td>NaT</td>\n",
       "      <td>18.01</td>\n",
       "      <td>2.31</td>\n",
       "      <td>14.0</td>\n",
       "      <td>16.01</td>\n",
       "      <td>18.02</td>\n",
       "      <td>20.01</td>\n",
       "      <td>22.0</td>\n",
       "      <td>False</td>\n",
       "      <td>0</td>\n",
       "      <td>0.0</td>\n",
       "      <td>float64</td>\n",
       "    </tr>\n",
       "    <tr>\n",
       "      <th>date</th>\n",
       "      <td>61853</td>\n",
       "      <td>4704</td>\n",
       "      <td>2011-04-09 00:00:00</td>\n",
       "      <td>30</td>\n",
       "      <td>2007-01-01</td>\n",
       "      <td>2020-12-28</td>\n",
       "      <td>NaN</td>\n",
       "      <td>NaN</td>\n",
       "      <td>NaN</td>\n",
       "      <td>NaN</td>\n",
       "      <td>NaN</td>\n",
       "      <td>NaN</td>\n",
       "      <td>NaN</td>\n",
       "      <td>False</td>\n",
       "      <td>0</td>\n",
       "      <td>0.0</td>\n",
       "      <td>datetime64[ns]</td>\n",
       "    </tr>\n",
       "    <tr>\n",
       "      <th>CITY ID</th>\n",
       "      <td>61853</td>\n",
       "      <td>5136</td>\n",
       "      <td>cfab1ba8c67c7c838db98d666f02a132</td>\n",
       "      <td>1853</td>\n",
       "      <td>NaT</td>\n",
       "      <td>NaT</td>\n",
       "      <td>NaN</td>\n",
       "      <td>NaN</td>\n",
       "      <td>NaN</td>\n",
       "      <td>NaN</td>\n",
       "      <td>NaN</td>\n",
       "      <td>NaN</td>\n",
       "      <td>NaN</td>\n",
       "      <td>False</td>\n",
       "      <td>0</td>\n",
       "      <td>0.0</td>\n",
       "      <td>object</td>\n",
       "    </tr>\n",
       "    <tr>\n",
       "      <th>pollutant</th>\n",
       "      <td>61853</td>\n",
       "      <td>3</td>\n",
       "      <td>Nitrogen oxides (NOX)</td>\n",
       "      <td>24501</td>\n",
       "      <td>NaT</td>\n",
       "      <td>NaT</td>\n",
       "      <td>NaN</td>\n",
       "      <td>NaN</td>\n",
       "      <td>NaN</td>\n",
       "      <td>NaN</td>\n",
       "      <td>NaN</td>\n",
       "      <td>NaN</td>\n",
       "      <td>NaN</td>\n",
       "      <td>False</td>\n",
       "      <td>0</td>\n",
       "      <td>0.0</td>\n",
       "      <td>object</td>\n",
       "    </tr>\n",
       "    <tr>\n",
       "      <th>facilityName</th>\n",
       "      <td>61853</td>\n",
       "      <td>7930</td>\n",
       "      <td>Enel Produzione S.p.A.</td>\n",
       "      <td>224</td>\n",
       "      <td>NaT</td>\n",
       "      <td>NaT</td>\n",
       "      <td>NaN</td>\n",
       "      <td>NaN</td>\n",
       "      <td>NaN</td>\n",
       "      <td>NaN</td>\n",
       "      <td>NaN</td>\n",
       "      <td>NaN</td>\n",
       "      <td>NaN</td>\n",
       "      <td>False</td>\n",
       "      <td>0</td>\n",
       "      <td>0.0</td>\n",
       "      <td>object</td>\n",
       "    </tr>\n",
       "    <tr>\n",
       "      <th>countryName</th>\n",
       "      <td>61853</td>\n",
       "      <td>32</td>\n",
       "      <td>United Kingdom</td>\n",
       "      <td>8515</td>\n",
       "      <td>NaT</td>\n",
       "      <td>NaT</td>\n",
       "      <td>NaN</td>\n",
       "      <td>NaN</td>\n",
       "      <td>NaN</td>\n",
       "      <td>NaN</td>\n",
       "      <td>NaN</td>\n",
       "      <td>NaN</td>\n",
       "      <td>NaN</td>\n",
       "      <td>False</td>\n",
       "      <td>0</td>\n",
       "      <td>0.0</td>\n",
       "      <td>object</td>\n",
       "    </tr>\n",
       "    <tr>\n",
       "      <th>dataset</th>\n",
       "      <td>61853</td>\n",
       "      <td>5</td>\n",
       "      <td>train1</td>\n",
       "      <td>18563</td>\n",
       "      <td>NaT</td>\n",
       "      <td>NaT</td>\n",
       "      <td>NaN</td>\n",
       "      <td>NaN</td>\n",
       "      <td>NaN</td>\n",
       "      <td>NaN</td>\n",
       "      <td>NaN</td>\n",
       "      <td>NaN</td>\n",
       "      <td>NaN</td>\n",
       "      <td>False</td>\n",
       "      <td>0</td>\n",
       "      <td>0.0</td>\n",
       "      <td>object</td>\n",
       "    </tr>\n",
       "    <tr>\n",
       "      <th>REPORTER NAME</th>\n",
       "      <td>61853</td>\n",
       "      <td>45016</td>\n",
       "      <td>James Smith</td>\n",
       "      <td>24</td>\n",
       "      <td>NaT</td>\n",
       "      <td>NaT</td>\n",
       "      <td>NaN</td>\n",
       "      <td>NaN</td>\n",
       "      <td>NaN</td>\n",
       "      <td>NaN</td>\n",
       "      <td>NaN</td>\n",
       "      <td>NaN</td>\n",
       "      <td>NaN</td>\n",
       "      <td>False</td>\n",
       "      <td>0</td>\n",
       "      <td>0.0</td>\n",
       "      <td>object</td>\n",
       "    </tr>\n",
       "    <tr>\n",
       "      <th>FacilityInspireID</th>\n",
       "      <td>61853</td>\n",
       "      <td>7185</td>\n",
       "      <td>NL.RIVM/000000062.FACILITY</td>\n",
       "      <td>37</td>\n",
       "      <td>NaT</td>\n",
       "      <td>NaT</td>\n",
       "      <td>NaN</td>\n",
       "      <td>NaN</td>\n",
       "      <td>NaN</td>\n",
       "      <td>NaN</td>\n",
       "      <td>NaN</td>\n",
       "      <td>NaN</td>\n",
       "      <td>NaN</td>\n",
       "      <td>False</td>\n",
       "      <td>0</td>\n",
       "      <td>0.0</td>\n",
       "      <td>object</td>\n",
       "    </tr>\n",
       "    <tr>\n",
       "      <th>EPRTRAnnexIMainActivityLabel</th>\n",
       "      <td>61853</td>\n",
       "      <td>71</td>\n",
       "      <td>Thermal power stations and other combustion in...</td>\n",
       "      <td>20320</td>\n",
       "      <td>NaT</td>\n",
       "      <td>NaT</td>\n",
       "      <td>NaN</td>\n",
       "      <td>NaN</td>\n",
       "      <td>NaN</td>\n",
       "      <td>NaN</td>\n",
       "      <td>NaN</td>\n",
       "      <td>NaN</td>\n",
       "      <td>NaN</td>\n",
       "      <td>False</td>\n",
       "      <td>0</td>\n",
       "      <td>0.0</td>\n",
       "      <td>object</td>\n",
       "    </tr>\n",
       "    <tr>\n",
       "      <th>City</th>\n",
       "      <td>61853</td>\n",
       "      <td>5136</td>\n",
       "      <td>--</td>\n",
       "      <td>1853</td>\n",
       "      <td>NaT</td>\n",
       "      <td>NaT</td>\n",
       "      <td>NaN</td>\n",
       "      <td>NaN</td>\n",
       "      <td>NaN</td>\n",
       "      <td>NaN</td>\n",
       "      <td>NaN</td>\n",
       "      <td>NaN</td>\n",
       "      <td>NaN</td>\n",
       "      <td>False</td>\n",
       "      <td>0</td>\n",
       "      <td>0.0</td>\n",
       "      <td>object</td>\n",
       "    </tr>\n",
       "    <tr>\n",
       "      <th>CONTINENT</th>\n",
       "      <td>61853</td>\n",
       "      <td>1</td>\n",
       "      <td>EUROPE</td>\n",
       "      <td>61853</td>\n",
       "      <td>NaT</td>\n",
       "      <td>NaT</td>\n",
       "      <td>NaN</td>\n",
       "      <td>NaN</td>\n",
       "      <td>NaN</td>\n",
       "      <td>NaN</td>\n",
       "      <td>NaN</td>\n",
       "      <td>NaN</td>\n",
       "      <td>NaN</td>\n",
       "      <td>False</td>\n",
       "      <td>0</td>\n",
       "      <td>0.0</td>\n",
       "      <td>object</td>\n",
       "    </tr>\n",
       "    <tr>\n",
       "      <th>eprtrSectorName</th>\n",
       "      <td>61853</td>\n",
       "      <td>9</td>\n",
       "      <td>Energy sector</td>\n",
       "      <td>23158</td>\n",
       "      <td>NaT</td>\n",
       "      <td>NaT</td>\n",
       "      <td>NaN</td>\n",
       "      <td>NaN</td>\n",
       "      <td>NaN</td>\n",
       "      <td>NaN</td>\n",
       "      <td>NaN</td>\n",
       "      <td>NaN</td>\n",
       "      <td>NaN</td>\n",
       "      <td>False</td>\n",
       "      <td>0</td>\n",
       "      <td>0.0</td>\n",
       "      <td>object</td>\n",
       "    </tr>\n",
       "    <tr>\n",
       "      <th>targetRelease</th>\n",
       "      <td>61853</td>\n",
       "      <td>1</td>\n",
       "      <td>AIR</td>\n",
       "      <td>61853</td>\n",
       "      <td>NaT</td>\n",
       "      <td>NaT</td>\n",
       "      <td>NaN</td>\n",
       "      <td>NaN</td>\n",
       "      <td>NaN</td>\n",
       "      <td>NaN</td>\n",
       "      <td>NaN</td>\n",
       "      <td>NaN</td>\n",
       "      <td>NaN</td>\n",
       "      <td>False</td>\n",
       "      <td>0</td>\n",
       "      <td>0.0</td>\n",
       "      <td>object</td>\n",
       "    </tr>\n",
       "  </tbody>\n",
       "</table>\n",
       "</div>\n",
       "      <button class=\"colab-df-convert\" onclick=\"convertToInteractive('df-c6c54802-8536-44b6-9a6d-fcc686ea5f94')\"\n",
       "              title=\"Convert this dataframe to an interactive table.\"\n",
       "              style=\"display:none;\">\n",
       "        \n",
       "  <svg xmlns=\"http://www.w3.org/2000/svg\" height=\"24px\"viewBox=\"0 0 24 24\"\n",
       "       width=\"24px\">\n",
       "    <path d=\"M0 0h24v24H0V0z\" fill=\"none\"/>\n",
       "    <path d=\"M18.56 5.44l.94 2.06.94-2.06 2.06-.94-2.06-.94-.94-2.06-.94 2.06-2.06.94zm-11 1L8.5 8.5l.94-2.06 2.06-.94-2.06-.94L8.5 2.5l-.94 2.06-2.06.94zm10 10l.94 2.06.94-2.06 2.06-.94-2.06-.94-.94-2.06-.94 2.06-2.06.94z\"/><path d=\"M17.41 7.96l-1.37-1.37c-.4-.4-.92-.59-1.43-.59-.52 0-1.04.2-1.43.59L10.3 9.45l-7.72 7.72c-.78.78-.78 2.05 0 2.83L4 21.41c.39.39.9.59 1.41.59.51 0 1.02-.2 1.41-.59l7.78-7.78 2.81-2.81c.8-.78.8-2.07 0-2.86zM5.41 20L4 18.59l7.72-7.72 1.47 1.35L5.41 20z\"/>\n",
       "  </svg>\n",
       "      </button>\n",
       "      \n",
       "  <style>\n",
       "    .colab-df-container {\n",
       "      display:flex;\n",
       "      flex-wrap:wrap;\n",
       "      gap: 12px;\n",
       "    }\n",
       "\n",
       "    .colab-df-convert {\n",
       "      background-color: #E8F0FE;\n",
       "      border: none;\n",
       "      border-radius: 50%;\n",
       "      cursor: pointer;\n",
       "      display: none;\n",
       "      fill: #1967D2;\n",
       "      height: 32px;\n",
       "      padding: 0 0 0 0;\n",
       "      width: 32px;\n",
       "    }\n",
       "\n",
       "    .colab-df-convert:hover {\n",
       "      background-color: #E2EBFA;\n",
       "      box-shadow: 0px 1px 2px rgba(60, 64, 67, 0.3), 0px 1px 3px 1px rgba(60, 64, 67, 0.15);\n",
       "      fill: #174EA6;\n",
       "    }\n",
       "\n",
       "    [theme=dark] .colab-df-convert {\n",
       "      background-color: #3B4455;\n",
       "      fill: #D2E3FC;\n",
       "    }\n",
       "\n",
       "    [theme=dark] .colab-df-convert:hover {\n",
       "      background-color: #434B5C;\n",
       "      box-shadow: 0px 1px 3px 1px rgba(0, 0, 0, 0.15);\n",
       "      filter: drop-shadow(0px 1px 2px rgba(0, 0, 0, 0.3));\n",
       "      fill: #FFFFFF;\n",
       "    }\n",
       "  </style>\n",
       "\n",
       "      <script>\n",
       "        const buttonEl =\n",
       "          document.querySelector('#df-c6c54802-8536-44b6-9a6d-fcc686ea5f94 button.colab-df-convert');\n",
       "        buttonEl.style.display =\n",
       "          google.colab.kernel.accessAllowed ? 'block' : 'none';\n",
       "\n",
       "        async function convertToInteractive(key) {\n",
       "          const element = document.querySelector('#df-c6c54802-8536-44b6-9a6d-fcc686ea5f94');\n",
       "          const dataTable =\n",
       "            await google.colab.kernel.invokeFunction('convertToInteractive',\n",
       "                                                     [key], {});\n",
       "          if (!dataTable) return;\n",
       "\n",
       "          const docLinkHtml = 'Like what you see? Visit the ' +\n",
       "            '<a target=\"_blank\" href=https://colab.research.google.com/notebooks/data_table.ipynb>data table notebook</a>'\n",
       "            + ' to learn more about interactive tables.';\n",
       "          element.innerHTML = '';\n",
       "          dataTable['output_type'] = 'display_data';\n",
       "          await google.colab.output.renderOutput(dataTable, element);\n",
       "          const docLink = document.createElement('div');\n",
       "          docLink.innerHTML = docLinkHtml;\n",
       "          element.appendChild(docLink);\n",
       "        }\n",
       "      </script>\n",
       "    </div>\n",
       "  </div>\n",
       "  "
      ],
      "text/plain": [
       "                              count  unique  \\\n",
       "DAY                           61853      28   \n",
       "DAY WITH FOGS                 61853      20   \n",
       "MONTH                         61853      12   \n",
       "reportingYear                 61853      14   \n",
       "min_wind_speed                61853   57060   \n",
       "min_temp                      61853   57060   \n",
       "max_wind_speed                61853   57060   \n",
       "max_temp                      61853   57060   \n",
       "avg_temp                      61853   57060   \n",
       "avg_wind_speed                61853   57060   \n",
       "date                          61853    4704   \n",
       "CITY ID                       61853    5136   \n",
       "pollutant                     61853       3   \n",
       "facilityName                  61853    7930   \n",
       "countryName                   61853      32   \n",
       "dataset                       61853       5   \n",
       "REPORTER NAME                 61853   45016   \n",
       "FacilityInspireID             61853    7185   \n",
       "EPRTRAnnexIMainActivityLabel  61853      71   \n",
       "City                          61853    5136   \n",
       "CONTINENT                     61853       1   \n",
       "eprtrSectorName               61853       9   \n",
       "targetRelease                 61853       1   \n",
       "\n",
       "                                                                            top  \\\n",
       "DAY                                                                         NaN   \n",
       "DAY WITH FOGS                                                               NaN   \n",
       "MONTH                                                                       NaN   \n",
       "reportingYear                                                               NaN   \n",
       "min_wind_speed                                                              NaN   \n",
       "min_temp                                                                    NaN   \n",
       "max_wind_speed                                                              NaN   \n",
       "max_temp                                                                    NaN   \n",
       "avg_temp                                                                    NaN   \n",
       "avg_wind_speed                                                              NaN   \n",
       "date                                                        2011-04-09 00:00:00   \n",
       "CITY ID                                        cfab1ba8c67c7c838db98d666f02a132   \n",
       "pollutant                                                 Nitrogen oxides (NOX)   \n",
       "facilityName                                             Enel Produzione S.p.A.   \n",
       "countryName                                                      United Kingdom   \n",
       "dataset                                                                  train1   \n",
       "REPORTER NAME                                                       James Smith   \n",
       "FacilityInspireID                                    NL.RIVM/000000062.FACILITY   \n",
       "EPRTRAnnexIMainActivityLabel  Thermal power stations and other combustion in...   \n",
       "City                                                                         --   \n",
       "CONTINENT                                                                EUROPE   \n",
       "eprtrSectorName                                                   Energy sector   \n",
       "targetRelease                                                               AIR   \n",
       "\n",
       "                               freq      first       last     mean   std  \\\n",
       "DAY                             NaN        NaT        NaT     14.5  8.13   \n",
       "DAY WITH FOGS                   NaN        NaT        NaT     2.21  3.73   \n",
       "MONTH                           NaN        NaT        NaT     6.46  3.46   \n",
       "reportingYear                   NaN        NaT        NaT  2012.98  3.86   \n",
       "min_wind_speed                  NaN        NaT        NaT    22.52  3.06   \n",
       "min_temp                        NaN        NaT        NaT    13.45  5.22   \n",
       "max_wind_speed                  NaN        NaT        NaT    15.52  3.07   \n",
       "max_temp                        NaN        NaT        NaT     9.46  5.21   \n",
       "avg_temp                        NaN        NaT        NaT    10.45  5.08   \n",
       "avg_wind_speed                  NaN        NaT        NaT    18.01  2.31   \n",
       "date                             30 2007-01-01 2020-12-28      NaN   NaN   \n",
       "CITY ID                        1853        NaT        NaT      NaN   NaN   \n",
       "pollutant                     24501        NaT        NaT      NaN   NaN   \n",
       "facilityName                    224        NaT        NaT      NaN   NaN   \n",
       "countryName                    8515        NaT        NaT      NaN   NaN   \n",
       "dataset                       18563        NaT        NaT      NaN   NaN   \n",
       "REPORTER NAME                    24        NaT        NaT      NaN   NaN   \n",
       "FacilityInspireID                37        NaT        NaT      NaN   NaN   \n",
       "EPRTRAnnexIMainActivityLabel  20320        NaT        NaT      NaN   NaN   \n",
       "City                           1853        NaT        NaT      NaN   NaN   \n",
       "CONTINENT                     61853        NaT        NaT      NaN   NaN   \n",
       "eprtrSectorName               23158        NaT        NaT      NaN   NaN   \n",
       "targetRelease                 61853        NaT        NaT      NaN   NaN   \n",
       "\n",
       "                                 min     25%     50%     75%     max  NullAny  \\\n",
       "DAY                              1.0     7.0    14.0    22.0    28.0    False   \n",
       "DAY WITH FOGS                    0.0     0.0     1.0     2.0    19.0    False   \n",
       "MONTH                            1.0     3.0     6.0     9.0    12.0    False   \n",
       "reportingYear                 2007.0  2010.0  2013.0  2016.0  2020.0    False   \n",
       "min_wind_speed                 15.03   20.35   22.54   24.71   29.93    False   \n",
       "min_temp                        0.89     9.9   13.69   17.28    24.9    False   \n",
       "max_wind_speed                  8.01   13.33   15.51   17.72   22.99    False   \n",
       "max_temp                       -3.14    5.89    9.69   13.29   20.94    False   \n",
       "avg_temp                        -0.2    7.19    10.7    14.2    20.0    False   \n",
       "avg_wind_speed                  14.0   16.01   18.02   20.01    22.0    False   \n",
       "date                             NaN     NaN     NaN     NaN     NaN    False   \n",
       "CITY ID                          NaN     NaN     NaN     NaN     NaN    False   \n",
       "pollutant                        NaN     NaN     NaN     NaN     NaN    False   \n",
       "facilityName                     NaN     NaN     NaN     NaN     NaN    False   \n",
       "countryName                      NaN     NaN     NaN     NaN     NaN    False   \n",
       "dataset                          NaN     NaN     NaN     NaN     NaN    False   \n",
       "REPORTER NAME                    NaN     NaN     NaN     NaN     NaN    False   \n",
       "FacilityInspireID                NaN     NaN     NaN     NaN     NaN    False   \n",
       "EPRTRAnnexIMainActivityLabel     NaN     NaN     NaN     NaN     NaN    False   \n",
       "City                             NaN     NaN     NaN     NaN     NaN    False   \n",
       "CONTINENT                        NaN     NaN     NaN     NaN     NaN    False   \n",
       "eprtrSectorName                  NaN     NaN     NaN     NaN     NaN    False   \n",
       "targetRelease                    NaN     NaN     NaN     NaN     NaN    False   \n",
       "\n",
       "                              NullSum  NullPct          dtypes  \n",
       "DAY                                 0      0.0           int64  \n",
       "DAY WITH FOGS                       0      0.0           int64  \n",
       "MONTH                               0      0.0           int64  \n",
       "reportingYear                       0      0.0           int64  \n",
       "min_wind_speed                      0      0.0         float64  \n",
       "min_temp                            0      0.0         float64  \n",
       "max_wind_speed                      0      0.0         float64  \n",
       "max_temp                            0      0.0         float64  \n",
       "avg_temp                            0      0.0         float64  \n",
       "avg_wind_speed                      0      0.0         float64  \n",
       "date                                0      0.0  datetime64[ns]  \n",
       "CITY ID                             0      0.0          object  \n",
       "pollutant                           0      0.0          object  \n",
       "facilityName                        0      0.0          object  \n",
       "countryName                         0      0.0          object  \n",
       "dataset                             0      0.0          object  \n",
       "REPORTER NAME                       0      0.0          object  \n",
       "FacilityInspireID                   0      0.0          object  \n",
       "EPRTRAnnexIMainActivityLabel        0      0.0          object  \n",
       "City                                0      0.0          object  \n",
       "CONTINENT                           0      0.0          object  \n",
       "eprtrSectorName                     0      0.0          object  \n",
       "targetRelease                       0      0.0          object  "
      ]
     },
     "execution_count": 220,
     "metadata": {},
     "output_type": "execute_result"
    }
   ],
   "source": [
    "describer(df)"
   ]
  },
  {
   "cell_type": "code",
   "execution_count": null,
   "metadata": {
    "colab": {
     "base_uri": "https://localhost:8080/",
     "height": 502
    },
    "id": "BjjqCoe45AX8",
    "outputId": "c5da634e-51ed-4b27-eca2-447950f81d45"
   },
   "outputs": [
    {
     "ename": "KeyError",
     "evalue": "ignored",
     "output_type": "error",
     "traceback": [
      "\u001b[0;31m---------------------------------------------------------------------------\u001b[0m",
      "\u001b[0;31mKeyError\u001b[0m                                  Traceback (most recent call last)",
      "\u001b[0;32m/usr/local/lib/python3.7/dist-packages/pandas/core/indexes/base.py\u001b[0m in \u001b[0;36mget_loc\u001b[0;34m(self, key, method, tolerance)\u001b[0m\n\u001b[1;32m   3360\u001b[0m             \u001b[0;32mtry\u001b[0m\u001b[0;34m:\u001b[0m\u001b[0;34m\u001b[0m\u001b[0;34m\u001b[0m\u001b[0m\n\u001b[0;32m-> 3361\u001b[0;31m                 \u001b[0;32mreturn\u001b[0m \u001b[0mself\u001b[0m\u001b[0;34m.\u001b[0m\u001b[0m_engine\u001b[0m\u001b[0;34m.\u001b[0m\u001b[0mget_loc\u001b[0m\u001b[0;34m(\u001b[0m\u001b[0mcasted_key\u001b[0m\u001b[0;34m)\u001b[0m\u001b[0;34m\u001b[0m\u001b[0;34m\u001b[0m\u001b[0m\n\u001b[0m\u001b[1;32m   3362\u001b[0m             \u001b[0;32mexcept\u001b[0m \u001b[0mKeyError\u001b[0m \u001b[0;32mas\u001b[0m \u001b[0merr\u001b[0m\u001b[0;34m:\u001b[0m\u001b[0;34m\u001b[0m\u001b[0;34m\u001b[0m\u001b[0m\n",
      "\u001b[0;32m/usr/local/lib/python3.7/dist-packages/pandas/_libs/index.pyx\u001b[0m in \u001b[0;36mpandas._libs.index.IndexEngine.get_loc\u001b[0;34m()\u001b[0m\n",
      "\u001b[0;32m/usr/local/lib/python3.7/dist-packages/pandas/_libs/index.pyx\u001b[0m in \u001b[0;36mpandas._libs.index.IndexEngine.get_loc\u001b[0;34m()\u001b[0m\n",
      "\u001b[0;32mpandas/_libs/hashtable_class_helper.pxi\u001b[0m in \u001b[0;36mpandas._libs.hashtable.PyObjectHashTable.get_item\u001b[0;34m()\u001b[0m\n",
      "\u001b[0;32mpandas/_libs/hashtable_class_helper.pxi\u001b[0m in \u001b[0;36mpandas._libs.hashtable.PyObjectHashTable.get_item\u001b[0;34m()\u001b[0m\n",
      "\u001b[0;31mKeyError\u001b[0m: 'pollutant'",
      "\nThe above exception was the direct cause of the following exception:\n",
      "\u001b[0;31mKeyError\u001b[0m                                  Traceback (most recent call last)",
      "\u001b[0;32m<ipython-input-299-559ba95b4fb4>\u001b[0m in \u001b[0;36m<module>\u001b[0;34m()\u001b[0m\n\u001b[1;32m      7\u001b[0m        \u001b[0;32mreturn\u001b[0m \u001b[0;36m2\u001b[0m\u001b[0;34m\u001b[0m\u001b[0;34m\u001b[0m\u001b[0m\n\u001b[1;32m      8\u001b[0m \u001b[0;34m\u001b[0m\u001b[0m\n\u001b[0;32m----> 9\u001b[0;31m \u001b[0mdf\u001b[0m\u001b[0;34m[\u001b[0m\u001b[0;34m'Target'\u001b[0m\u001b[0;34m]\u001b[0m \u001b[0;34m=\u001b[0m \u001b[0mdf\u001b[0m\u001b[0;34m[\u001b[0m\u001b[0;34m'pollutant'\u001b[0m\u001b[0;34m]\u001b[0m\u001b[0;34m.\u001b[0m\u001b[0mapply\u001b[0m\u001b[0;34m(\u001b[0m\u001b[0mparse_values\u001b[0m\u001b[0;34m)\u001b[0m\u001b[0;34m\u001b[0m\u001b[0;34m\u001b[0m\u001b[0m\n\u001b[0m",
      "\u001b[0;32m/usr/local/lib/python3.7/dist-packages/pandas/core/frame.py\u001b[0m in \u001b[0;36m__getitem__\u001b[0;34m(self, key)\u001b[0m\n\u001b[1;32m   3456\u001b[0m             \u001b[0;32mif\u001b[0m \u001b[0mself\u001b[0m\u001b[0;34m.\u001b[0m\u001b[0mcolumns\u001b[0m\u001b[0;34m.\u001b[0m\u001b[0mnlevels\u001b[0m \u001b[0;34m>\u001b[0m \u001b[0;36m1\u001b[0m\u001b[0;34m:\u001b[0m\u001b[0;34m\u001b[0m\u001b[0;34m\u001b[0m\u001b[0m\n\u001b[1;32m   3457\u001b[0m                 \u001b[0;32mreturn\u001b[0m \u001b[0mself\u001b[0m\u001b[0;34m.\u001b[0m\u001b[0m_getitem_multilevel\u001b[0m\u001b[0;34m(\u001b[0m\u001b[0mkey\u001b[0m\u001b[0;34m)\u001b[0m\u001b[0;34m\u001b[0m\u001b[0;34m\u001b[0m\u001b[0m\n\u001b[0;32m-> 3458\u001b[0;31m             \u001b[0mindexer\u001b[0m \u001b[0;34m=\u001b[0m \u001b[0mself\u001b[0m\u001b[0;34m.\u001b[0m\u001b[0mcolumns\u001b[0m\u001b[0;34m.\u001b[0m\u001b[0mget_loc\u001b[0m\u001b[0;34m(\u001b[0m\u001b[0mkey\u001b[0m\u001b[0;34m)\u001b[0m\u001b[0;34m\u001b[0m\u001b[0;34m\u001b[0m\u001b[0m\n\u001b[0m\u001b[1;32m   3459\u001b[0m             \u001b[0;32mif\u001b[0m \u001b[0mis_integer\u001b[0m\u001b[0;34m(\u001b[0m\u001b[0mindexer\u001b[0m\u001b[0;34m)\u001b[0m\u001b[0;34m:\u001b[0m\u001b[0;34m\u001b[0m\u001b[0;34m\u001b[0m\u001b[0m\n\u001b[1;32m   3460\u001b[0m                 \u001b[0mindexer\u001b[0m \u001b[0;34m=\u001b[0m \u001b[0;34m[\u001b[0m\u001b[0mindexer\u001b[0m\u001b[0;34m]\u001b[0m\u001b[0;34m\u001b[0m\u001b[0;34m\u001b[0m\u001b[0m\n",
      "\u001b[0;32m/usr/local/lib/python3.7/dist-packages/pandas/core/indexes/base.py\u001b[0m in \u001b[0;36mget_loc\u001b[0;34m(self, key, method, tolerance)\u001b[0m\n\u001b[1;32m   3361\u001b[0m                 \u001b[0;32mreturn\u001b[0m \u001b[0mself\u001b[0m\u001b[0;34m.\u001b[0m\u001b[0m_engine\u001b[0m\u001b[0;34m.\u001b[0m\u001b[0mget_loc\u001b[0m\u001b[0;34m(\u001b[0m\u001b[0mcasted_key\u001b[0m\u001b[0;34m)\u001b[0m\u001b[0;34m\u001b[0m\u001b[0;34m\u001b[0m\u001b[0m\n\u001b[1;32m   3362\u001b[0m             \u001b[0;32mexcept\u001b[0m \u001b[0mKeyError\u001b[0m \u001b[0;32mas\u001b[0m \u001b[0merr\u001b[0m\u001b[0;34m:\u001b[0m\u001b[0;34m\u001b[0m\u001b[0;34m\u001b[0m\u001b[0m\n\u001b[0;32m-> 3363\u001b[0;31m                 \u001b[0;32mraise\u001b[0m \u001b[0mKeyError\u001b[0m\u001b[0;34m(\u001b[0m\u001b[0mkey\u001b[0m\u001b[0;34m)\u001b[0m \u001b[0;32mfrom\u001b[0m \u001b[0merr\u001b[0m\u001b[0;34m\u001b[0m\u001b[0;34m\u001b[0m\u001b[0m\n\u001b[0m\u001b[1;32m   3364\u001b[0m \u001b[0;34m\u001b[0m\u001b[0m\n\u001b[1;32m   3365\u001b[0m         \u001b[0;32mif\u001b[0m \u001b[0mis_scalar\u001b[0m\u001b[0;34m(\u001b[0m\u001b[0mkey\u001b[0m\u001b[0;34m)\u001b[0m \u001b[0;32mand\u001b[0m \u001b[0misna\u001b[0m\u001b[0;34m(\u001b[0m\u001b[0mkey\u001b[0m\u001b[0;34m)\u001b[0m \u001b[0;32mand\u001b[0m \u001b[0;32mnot\u001b[0m \u001b[0mself\u001b[0m\u001b[0;34m.\u001b[0m\u001b[0mhasnans\u001b[0m\u001b[0;34m:\u001b[0m\u001b[0;34m\u001b[0m\u001b[0;34m\u001b[0m\u001b[0m\n",
      "\u001b[0;31mKeyError\u001b[0m: 'pollutant'"
     ]
    }
   ],
   "source": []
  },
  {
   "cell_type": "code",
   "execution_count": null,
   "metadata": {
    "colab": {
     "base_uri": "https://localhost:8080/"
    },
    "id": "UcoVK-ZNq24s",
    "outputId": "370e7bc4-c495-46b6-cdb2-c1f127dc0e75"
   },
   "outputs": [
    {
     "data": {
      "text/plain": [
       "0    0.40\n",
       "1    0.35\n",
       "2    0.25\n",
       "Name: Target, dtype: float64"
      ]
     },
     "execution_count": 236,
     "metadata": {},
     "output_type": "execute_result"
    }
   ],
   "source": [
    "df.Target.value_counts(normalize=True).round(2)"
   ]
  },
  {
   "cell_type": "code",
   "execution_count": null,
   "metadata": {
    "id": "z-UyPx4rHklq"
   },
   "outputs": [],
   "source": []
  },
  {
   "cell_type": "code",
   "execution_count": null,
   "metadata": {
    "id": "kngozv7E5Fsf"
   },
   "outputs": [],
   "source": [
    "# Correlation between numeric columns\n",
    "# ==============================================================================\n",
    "def tidy_corr_matrix(corr_mat):\n",
    "    \n",
    "    # Function to convert a pandas correlation matrix to tidy format\n",
    "    \n",
    "    corr_mat = corr_mat.stack().reset_index()\n",
    "    corr_mat.columns = ['variable_1','variable_2','r']\n",
    "    corr_mat = corr_mat.loc[corr_mat['variable_1'] != corr_mat['variable_2'], :]\n",
    "    corr_mat['abs_r'] = np.abs(corr_mat['r'])\n",
    "    corr_mat = corr_mat.sort_values('abs_r', ascending=False)\n",
    "    \n",
    "    return corr_mat\n",
    "\n"
   ]
  },
  {
   "cell_type": "code",
   "execution_count": null,
   "metadata": {
    "id": "d4umR3PpGujz"
   },
   "outputs": [],
   "source": [
    "corr_matrix = df.select_dtypes(include=['float64', 'int']).corr(method='pearson')\n",
    "\n",
    "tidy_corr_matrix(corr_matrix)"
   ]
  },
  {
   "cell_type": "code",
   "execution_count": null,
   "metadata": {
    "id": "o8S1su3v57Ax"
   },
   "outputs": [],
   "source": []
  },
  {
   "cell_type": "code",
   "execution_count": null,
   "metadata": {
    "id": "HMJucHyi-_us"
   },
   "outputs": [],
   "source": [
    "# Heatmap matrix of correlations\n",
    "# ==============================================================================\n",
    "fig, ax = plt.subplots(nrows=1, ncols=1, figsize=(15, 15))\n",
    "\n",
    "corr= df.select_dtypes(include=['float64', 'int']).corr(method='pearson').corr()\n",
    "\n",
    "# Getting the Upper Triangle of the co-relation matrix\n",
    "\n",
    "matrix = np.triu(corr)\n",
    "\n",
    "# using the upper triangle matrix as mask \n",
    "sns.heatmap(corr, \n",
    "            annot=True, \n",
    "            mask=matrix, \n",
    "            cmap=sns.diverging_palette(150, 275, s=80, l=55, n=9),\n",
    "            annot_kws = {\"size\": 10})\n",
    "\n",
    "ax.set_xticklabels(\n",
    "    ax.get_xticklabels(),\n",
    "    rotation = 45,\n",
    "    horizontalalignment = 'right',\n",
    ")\n",
    "ax.set_yticklabels(\n",
    "    ax.get_yticklabels(),\n",
    "    rotation = 0,\n",
    "    horizontalalignment = 'right',\n",
    ")\n",
    "ax.tick_params(labelsize = 15)\n",
    "\n",
    "fig.suptitle('Heatmap Correlation Matrix', fontsize = 30, fontweight = \"bold\")\n",
    "#plt.savefig(\"../reports/figures/Heatmap_Matrix_Correlations.png\")"
   ]
  },
  {
   "cell_type": "code",
   "execution_count": null,
   "metadata": {
    "id": "5EPIh2-R57Dn"
   },
   "outputs": [],
   "source": []
  },
  {
   "cell_type": "code",
   "execution_count": null,
   "metadata": {
    "id": "mLaLJ03057Gh"
   },
   "outputs": [],
   "source": []
  },
  {
   "cell_type": "code",
   "execution_count": null,
   "metadata": {
    "id": "uEydF_zuli0F"
   },
   "outputs": [],
   "source": [
    "df_csv"
   ]
  },
  {
   "cell_type": "code",
   "execution_count": null,
   "metadata": {
    "colab": {
     "base_uri": "https://localhost:8080/",
     "height": 296
    },
    "id": "Z-oW9Av4lkFq",
    "outputId": "4ce549cf-c380-4a12-e83e-5af9800706f5"
   },
   "outputs": [
    {
     "name": "stderr",
     "output_type": "stream",
     "text": [
      "/usr/local/lib/python3.7/dist-packages/ipykernel_launcher.py:16: FutureWarning: Treating datetime data as categorical rather than numeric in `.describe` is deprecated and will be removed in a future version of pandas. Specify `datetime_is_numeric=True` to silence this warning and adopt the future behavior now.\n",
      "  app.launch_new_instance()\n"
     ]
    },
    {
     "data": {
      "application/vnd.google.colaboratory.module+javascript": "\n      import \"https://ssl.gstatic.com/colaboratory/data_table/f872b2c2305463fd/data_table.js\";\n\n      window.createDataTable({\n        data: [[\"DAY WITH FOGS\",\n{\n            'v': 20,\n            'f': \"20\",\n        }],\n [\"reportingYear\",\n{\n            'v': 14,\n            'f': \"14\",\n        }],\n [\"MONTH\",\n{\n            'v': 12,\n            'f': \"12\",\n        }],\n [\"DAY\",\n{\n            'v': 28,\n            'f': \"28\",\n        }],\n [\"min_temp\",\n{\n            'v': 28559,\n            'f': \"28559\",\n        }],\n [\"avg_temp\",\n{\n            'v': 28559,\n            'f': \"28559\",\n        }],\n [\"max_temp\",\n{\n            'v': 28559,\n            'f': \"28559\",\n        }],\n [\"min_wind_speed\",\n{\n            'v': 28559,\n            'f': \"28559\",\n        }],\n [\"avg_wind_speed\",\n{\n            'v': 28559,\n            'f': \"28559\",\n        }],\n [\"max_wind_speed\",\n{\n            'v': 28559,\n            'f': \"28559\",\n        }],\n [\"date\",\n{\n            'v': 4680,\n            'f': \"4680\",\n        }],\n [\"CITY ID\",\n{\n            'v': 4514,\n            'f': \"4514\",\n        }],\n [\"REPORTER NAME\",\n{\n            'v': 24686,\n            'f': \"24686\",\n        }],\n [\"countryName\",\n{\n            'v': 32,\n            'f': \"32\",\n        }],\n [\"pollutant\",\n{\n            'v': 3,\n            'f': \"3\",\n        }],\n [\"targetRelease\",\n{\n            'v': 1,\n            'f': \"1\",\n        }],\n [\"City\",\n{\n            'v': 4514,\n            'f': \"4514\",\n        }],\n [\"facilityName\",\n{\n            'v': 6704,\n            'f': \"6704\",\n        }],\n [\"FacilityInspireID\",\n{\n            'v': 6306,\n            'f': \"6306\",\n        }],\n [\"EPRTRAnnexIMainActivityLabel\",\n{\n            'v': 70,\n            'f': \"70\",\n        }],\n [\"eprtrSectorName\",\n{\n            'v': 9,\n            'f': \"9\",\n        }],\n [\"dataset\",\n{\n            'v': 2,\n            'f': \"2\",\n        }],\n [\"CONTINENT\",\n{\n            'v': 1,\n            'f': \"1\",\n        }]],\n        columns: [[\"string\", \"index\"], [\"number\", \"unique\"]],\n        columnOptions: [{\"width\": \"1px\", \"className\": \"index_column\"}],\n        rowsPerPage: 25,\n        helpUrl: \"https://colab.research.google.com/notebooks/data_table.ipynb\",\n        suppressOutputScrolling: true,\n        minimumWidth: undefined,\n      });\n    ",
      "text/html": [
       "<div>\n",
       "<style scoped>\n",
       "    .dataframe tbody tr th:only-of-type {\n",
       "        vertical-align: middle;\n",
       "    }\n",
       "\n",
       "    .dataframe tbody tr th {\n",
       "        vertical-align: top;\n",
       "    }\n",
       "\n",
       "    .dataframe thead th {\n",
       "        text-align: right;\n",
       "    }\n",
       "</style>\n",
       "<table border=\"1\" class=\"dataframe\">\n",
       "  <thead>\n",
       "    <tr style=\"text-align: right;\">\n",
       "      <th></th>\n",
       "      <th>unique</th>\n",
       "    </tr>\n",
       "  </thead>\n",
       "  <tbody>\n",
       "    <tr>\n",
       "      <th>DAY WITH FOGS</th>\n",
       "      <td>20</td>\n",
       "    </tr>\n",
       "    <tr>\n",
       "      <th>reportingYear</th>\n",
       "      <td>14</td>\n",
       "    </tr>\n",
       "    <tr>\n",
       "      <th>MONTH</th>\n",
       "      <td>12</td>\n",
       "    </tr>\n",
       "    <tr>\n",
       "      <th>DAY</th>\n",
       "      <td>28</td>\n",
       "    </tr>\n",
       "    <tr>\n",
       "      <th>min_temp</th>\n",
       "      <td>28559</td>\n",
       "    </tr>\n",
       "    <tr>\n",
       "      <th>avg_temp</th>\n",
       "      <td>28559</td>\n",
       "    </tr>\n",
       "    <tr>\n",
       "      <th>max_temp</th>\n",
       "      <td>28559</td>\n",
       "    </tr>\n",
       "    <tr>\n",
       "      <th>min_wind_speed</th>\n",
       "      <td>28559</td>\n",
       "    </tr>\n",
       "    <tr>\n",
       "      <th>avg_wind_speed</th>\n",
       "      <td>28559</td>\n",
       "    </tr>\n",
       "    <tr>\n",
       "      <th>max_wind_speed</th>\n",
       "      <td>28559</td>\n",
       "    </tr>\n",
       "    <tr>\n",
       "      <th>date</th>\n",
       "      <td>4680</td>\n",
       "    </tr>\n",
       "    <tr>\n",
       "      <th>CITY ID</th>\n",
       "      <td>4514</td>\n",
       "    </tr>\n",
       "    <tr>\n",
       "      <th>REPORTER NAME</th>\n",
       "      <td>24686</td>\n",
       "    </tr>\n",
       "    <tr>\n",
       "      <th>countryName</th>\n",
       "      <td>32</td>\n",
       "    </tr>\n",
       "    <tr>\n",
       "      <th>pollutant</th>\n",
       "      <td>3</td>\n",
       "    </tr>\n",
       "    <tr>\n",
       "      <th>targetRelease</th>\n",
       "      <td>1</td>\n",
       "    </tr>\n",
       "    <tr>\n",
       "      <th>City</th>\n",
       "      <td>4514</td>\n",
       "    </tr>\n",
       "    <tr>\n",
       "      <th>facilityName</th>\n",
       "      <td>6704</td>\n",
       "    </tr>\n",
       "    <tr>\n",
       "      <th>FacilityInspireID</th>\n",
       "      <td>6306</td>\n",
       "    </tr>\n",
       "    <tr>\n",
       "      <th>EPRTRAnnexIMainActivityLabel</th>\n",
       "      <td>70</td>\n",
       "    </tr>\n",
       "    <tr>\n",
       "      <th>eprtrSectorName</th>\n",
       "      <td>9</td>\n",
       "    </tr>\n",
       "    <tr>\n",
       "      <th>dataset</th>\n",
       "      <td>2</td>\n",
       "    </tr>\n",
       "    <tr>\n",
       "      <th>CONTINENT</th>\n",
       "      <td>1</td>\n",
       "    </tr>\n",
       "  </tbody>\n",
       "</table>\n",
       "</div>"
      ],
      "text/plain": [
       "<google.colab.data_table.DataTable object>"
      ]
     },
     "execution_count": 281,
     "metadata": {},
     "output_type": "execute_result"
    }
   ],
   "source": [
    "data_table.DataTable(describer(df_csv)[[\"unique\"]])"
   ]
  },
  {
   "cell_type": "code",
   "execution_count": null,
   "metadata": {
    "colab": {
     "base_uri": "https://localhost:8080/",
     "height": 699
    },
    "id": "mot0ew-QkHKA",
    "outputId": "c204ed0a-988a-4231-e361-40df44b6a0d5"
   },
   "outputs": [
    {
     "data": {
      "application/vnd.google.colaboratory.module+javascript": "\n      import \"https://ssl.gstatic.com/colaboratory/data_table/f872b2c2305463fd/data_table.js\";\n\n      window.createDataTable({\n        data: [[\"MONTH\",\n{\n            'v': 12,\n            'f': \"12\",\n        }],\n [\"EPRTRSectorCode\",\n{\n            'v': 9,\n            'f': \"9\",\n        }],\n [\"DAY WITH FOGS\",\n{\n            'v': 20,\n            'f': \"20\",\n        }],\n [\"reportingYear\",\n{\n            'v': 14,\n            'f': \"14\",\n        }],\n [\"DAY\",\n{\n            'v': 28,\n            'f': \"28\",\n        }],\n [\"min_temp\",\n{\n            'v': 24480,\n            'f': \"24480\",\n        }],\n [\"avg_temp\",\n{\n            'v': 24480,\n            'f': \"24480\",\n        }],\n [\"max_temp\",\n{\n            'v': 24480,\n            'f': \"24480\",\n        }],\n [\"min_wind_speed\",\n{\n            'v': 24480,\n            'f': \"24480\",\n        }],\n [\"avg_wind_speed\",\n{\n            'v': 24480,\n            'f': \"24480\",\n        }],\n [\"max_wind_speed\",\n{\n            'v': 24480,\n            'f': \"24480\",\n        }],\n [\"CONTINENT\",\n{\n            'v': 1,\n            'f': \"1\",\n        }],\n [\"countryName\",\n{\n            'v': 32,\n            'f': \"32\",\n        }],\n [\"targetRelease\",\n{\n            'v': 1,\n            'f': \"1\",\n        }],\n [\"City\",\n{\n            'v': 4360,\n            'f': \"4360\",\n        }],\n [\"facilityName\",\n{\n            'v': 6389,\n            'f': \"6389\",\n        }],\n [\"FacilityInspireID\",\n{\n            'v': 6104,\n            'f': \"6104\",\n        }],\n [\"EPRTRAnnexIMainActivityLabel\",\n{\n            'v': 70,\n            'f': \"70\",\n        }],\n [\"EPRTRAnnexIMainActivityCode\",\n{\n            'v': 70,\n            'f': \"70\",\n        }],\n [\"eprtrSectorName\",\n{\n            'v': 9,\n            'f': \"9\",\n        }],\n [\"REPORTER NAME\",\n{\n            'v': 21508,\n            'f': \"21508\",\n        }],\n [\"CITY ID\",\n{\n            'v': 4360,\n            'f': \"4360\",\n        }]],\n        columns: [[\"string\", \"index\"], [\"number\", \"unique\"]],\n        columnOptions: [{\"width\": \"1px\", \"className\": \"index_column\"}],\n        rowsPerPage: 25,\n        helpUrl: \"https://colab.research.google.com/notebooks/data_table.ipynb\",\n        suppressOutputScrolling: true,\n        minimumWidth: undefined,\n      });\n    ",
      "text/html": [
       "<div>\n",
       "<style scoped>\n",
       "    .dataframe tbody tr th:only-of-type {\n",
       "        vertical-align: middle;\n",
       "    }\n",
       "\n",
       "    .dataframe tbody tr th {\n",
       "        vertical-align: top;\n",
       "    }\n",
       "\n",
       "    .dataframe thead th {\n",
       "        text-align: right;\n",
       "    }\n",
       "</style>\n",
       "<table border=\"1\" class=\"dataframe\">\n",
       "  <thead>\n",
       "    <tr style=\"text-align: right;\">\n",
       "      <th></th>\n",
       "      <th>unique</th>\n",
       "    </tr>\n",
       "  </thead>\n",
       "  <tbody>\n",
       "    <tr>\n",
       "      <th>MONTH</th>\n",
       "      <td>12</td>\n",
       "    </tr>\n",
       "    <tr>\n",
       "      <th>EPRTRSectorCode</th>\n",
       "      <td>9</td>\n",
       "    </tr>\n",
       "    <tr>\n",
       "      <th>DAY WITH FOGS</th>\n",
       "      <td>20</td>\n",
       "    </tr>\n",
       "    <tr>\n",
       "      <th>reportingYear</th>\n",
       "      <td>14</td>\n",
       "    </tr>\n",
       "    <tr>\n",
       "      <th>DAY</th>\n",
       "      <td>28</td>\n",
       "    </tr>\n",
       "    <tr>\n",
       "      <th>min_temp</th>\n",
       "      <td>24480</td>\n",
       "    </tr>\n",
       "    <tr>\n",
       "      <th>avg_temp</th>\n",
       "      <td>24480</td>\n",
       "    </tr>\n",
       "    <tr>\n",
       "      <th>max_temp</th>\n",
       "      <td>24480</td>\n",
       "    </tr>\n",
       "    <tr>\n",
       "      <th>min_wind_speed</th>\n",
       "      <td>24480</td>\n",
       "    </tr>\n",
       "    <tr>\n",
       "      <th>avg_wind_speed</th>\n",
       "      <td>24480</td>\n",
       "    </tr>\n",
       "    <tr>\n",
       "      <th>max_wind_speed</th>\n",
       "      <td>24480</td>\n",
       "    </tr>\n",
       "    <tr>\n",
       "      <th>CONTINENT</th>\n",
       "      <td>1</td>\n",
       "    </tr>\n",
       "    <tr>\n",
       "      <th>countryName</th>\n",
       "      <td>32</td>\n",
       "    </tr>\n",
       "    <tr>\n",
       "      <th>targetRelease</th>\n",
       "      <td>1</td>\n",
       "    </tr>\n",
       "    <tr>\n",
       "      <th>City</th>\n",
       "      <td>4360</td>\n",
       "    </tr>\n",
       "    <tr>\n",
       "      <th>facilityName</th>\n",
       "      <td>6389</td>\n",
       "    </tr>\n",
       "    <tr>\n",
       "      <th>FacilityInspireID</th>\n",
       "      <td>6104</td>\n",
       "    </tr>\n",
       "    <tr>\n",
       "      <th>EPRTRAnnexIMainActivityLabel</th>\n",
       "      <td>70</td>\n",
       "    </tr>\n",
       "    <tr>\n",
       "      <th>EPRTRAnnexIMainActivityCode</th>\n",
       "      <td>70</td>\n",
       "    </tr>\n",
       "    <tr>\n",
       "      <th>eprtrSectorName</th>\n",
       "      <td>9</td>\n",
       "    </tr>\n",
       "    <tr>\n",
       "      <th>REPORTER NAME</th>\n",
       "      <td>21508</td>\n",
       "    </tr>\n",
       "    <tr>\n",
       "      <th>CITY ID</th>\n",
       "      <td>4360</td>\n",
       "    </tr>\n",
       "  </tbody>\n",
       "</table>\n",
       "</div>"
      ],
      "text/plain": [
       "<google.colab.data_table.DataTable object>"
      ]
     },
     "execution_count": 282,
     "metadata": {},
     "output_type": "execute_result"
    }
   ],
   "source": [
    "data_table.DataTable(describer(test_x)[[\"unique\"]])"
   ]
  },
  {
   "cell_type": "code",
   "execution_count": null,
   "metadata": {
    "colab": {
     "base_uri": "https://localhost:8080/",
     "height": 634
    },
    "id": "hQ_VSKNplopa",
    "outputId": "bb71be27-d898-4801-a2b7-fb4b5b4bd1c1"
   },
   "outputs": [
    {
     "data": {
      "application/vnd.google.colaboratory.module+javascript": "\n      import \"https://ssl.gstatic.com/colaboratory/data_table/f872b2c2305463fd/data_table.js\";\n\n      window.createDataTable({\n        data: [[\"\",\n{\n            'v': 9500,\n            'f': \"9500\",\n        }],\n [\"reportingYear\",\n{\n            'v': 14,\n            'f': \"14\",\n        }],\n [\"pollutant\",\n{\n            'v': 3,\n            'f': \"3\",\n        }],\n [\"min_wind_speed\",\n{\n            'v': 9500,\n            'f': \"9500\",\n        }],\n [\"min_temp\",\n{\n            'v': 9500,\n            'f': \"9500\",\n        }],\n [\"max_wind_speed\",\n{\n            'v': 9500,\n            'f': \"9500\",\n        }],\n [\"max_temp\",\n{\n            'v': 9500,\n            'f': \"9500\",\n        }],\n [\"facilityName\",\n{\n            'v': 4497,\n            'f': \"4497\",\n        }],\n [\"eprtrSectorName\",\n{\n            'v': 9,\n            'f': \"9\",\n        }],\n [\"countryName\",\n{\n            'v': 32,\n            'f': \"32\",\n        }],\n [\"avg_wind_speed\",\n{\n            'v': 9500,\n            'f': \"9500\",\n        }],\n [\"targetRelease\",\n{\n            'v': 1,\n            'f': \"1\",\n        }],\n [\"avg_temp\",\n{\n            'v': 9500,\n            'f': \"9500\",\n        }],\n [\"MONTH\",\n{\n            'v': 12,\n            'f': \"12\",\n        }],\n [\"FacilityInspireID\",\n{\n            'v': 4471,\n            'f': \"4471\",\n        }],\n [\"EPRTRSectorCode\",\n{\n            'v': 9,\n            'f': \"9\",\n        }],\n [\"EPRTRAnnexIMainActivityLabel\",\n{\n            'v': 69,\n            'f': \"69\",\n        }],\n [\"EPRTRAnnexIMainActivityCode\",\n{\n            'v': 69,\n            'f': \"69\",\n        }],\n [\"DAY WITH FOGS\",\n{\n            'v': 20,\n            'f': \"20\",\n        }],\n [\"DAY\",\n{\n            'v': 28,\n            'f': \"28\",\n        }],\n [\"City\",\n{\n            'v': 3277,\n            'f': \"3277\",\n        }],\n [\"CONTINENT\",\n{\n            'v': 1,\n            'f': \"1\",\n        }],\n [\"CITY ID\",\n{\n            'v': 3277,\n            'f': \"3277\",\n        }],\n [\"REPORTER NAME\",\n{\n            'v': 8944,\n            'f': \"8944\",\n        }],\n [\"dataset\",\n{\n            'v': 1,\n            'f': \"1\",\n        }]],\n        columns: [[\"string\", \"index\"], [\"number\", \"unique\"]],\n        columnOptions: [{\"width\": \"1px\", \"className\": \"index_column\"}],\n        rowsPerPage: 25,\n        helpUrl: \"https://colab.research.google.com/notebooks/data_table.ipynb\",\n        suppressOutputScrolling: true,\n        minimumWidth: undefined,\n      });\n    ",
      "text/html": [
       "<div>\n",
       "<style scoped>\n",
       "    .dataframe tbody tr th:only-of-type {\n",
       "        vertical-align: middle;\n",
       "    }\n",
       "\n",
       "    .dataframe tbody tr th {\n",
       "        vertical-align: top;\n",
       "    }\n",
       "\n",
       "    .dataframe thead th {\n",
       "        text-align: right;\n",
       "    }\n",
       "</style>\n",
       "<table border=\"1\" class=\"dataframe\">\n",
       "  <thead>\n",
       "    <tr style=\"text-align: right;\">\n",
       "      <th></th>\n",
       "      <th>unique</th>\n",
       "    </tr>\n",
       "  </thead>\n",
       "  <tbody>\n",
       "    <tr>\n",
       "      <th></th>\n",
       "      <td>9500</td>\n",
       "    </tr>\n",
       "    <tr>\n",
       "      <th>reportingYear</th>\n",
       "      <td>14</td>\n",
       "    </tr>\n",
       "    <tr>\n",
       "      <th>pollutant</th>\n",
       "      <td>3</td>\n",
       "    </tr>\n",
       "    <tr>\n",
       "      <th>min_wind_speed</th>\n",
       "      <td>9500</td>\n",
       "    </tr>\n",
       "    <tr>\n",
       "      <th>min_temp</th>\n",
       "      <td>9500</td>\n",
       "    </tr>\n",
       "    <tr>\n",
       "      <th>max_wind_speed</th>\n",
       "      <td>9500</td>\n",
       "    </tr>\n",
       "    <tr>\n",
       "      <th>max_temp</th>\n",
       "      <td>9500</td>\n",
       "    </tr>\n",
       "    <tr>\n",
       "      <th>facilityName</th>\n",
       "      <td>4497</td>\n",
       "    </tr>\n",
       "    <tr>\n",
       "      <th>eprtrSectorName</th>\n",
       "      <td>9</td>\n",
       "    </tr>\n",
       "    <tr>\n",
       "      <th>countryName</th>\n",
       "      <td>32</td>\n",
       "    </tr>\n",
       "    <tr>\n",
       "      <th>avg_wind_speed</th>\n",
       "      <td>9500</td>\n",
       "    </tr>\n",
       "    <tr>\n",
       "      <th>targetRelease</th>\n",
       "      <td>1</td>\n",
       "    </tr>\n",
       "    <tr>\n",
       "      <th>avg_temp</th>\n",
       "      <td>9500</td>\n",
       "    </tr>\n",
       "    <tr>\n",
       "      <th>MONTH</th>\n",
       "      <td>12</td>\n",
       "    </tr>\n",
       "    <tr>\n",
       "      <th>FacilityInspireID</th>\n",
       "      <td>4471</td>\n",
       "    </tr>\n",
       "    <tr>\n",
       "      <th>EPRTRSectorCode</th>\n",
       "      <td>9</td>\n",
       "    </tr>\n",
       "    <tr>\n",
       "      <th>EPRTRAnnexIMainActivityLabel</th>\n",
       "      <td>69</td>\n",
       "    </tr>\n",
       "    <tr>\n",
       "      <th>EPRTRAnnexIMainActivityCode</th>\n",
       "      <td>69</td>\n",
       "    </tr>\n",
       "    <tr>\n",
       "      <th>DAY WITH FOGS</th>\n",
       "      <td>20</td>\n",
       "    </tr>\n",
       "    <tr>\n",
       "      <th>DAY</th>\n",
       "      <td>28</td>\n",
       "    </tr>\n",
       "    <tr>\n",
       "      <th>City</th>\n",
       "      <td>3277</td>\n",
       "    </tr>\n",
       "    <tr>\n",
       "      <th>CONTINENT</th>\n",
       "      <td>1</td>\n",
       "    </tr>\n",
       "    <tr>\n",
       "      <th>CITY ID</th>\n",
       "      <td>3277</td>\n",
       "    </tr>\n",
       "    <tr>\n",
       "      <th>REPORTER NAME</th>\n",
       "      <td>8944</td>\n",
       "    </tr>\n",
       "    <tr>\n",
       "      <th>dataset</th>\n",
       "      <td>1</td>\n",
       "    </tr>\n",
       "  </tbody>\n",
       "</table>\n",
       "</div>"
      ],
      "text/plain": [
       "<google.colab.data_table.DataTable object>"
      ]
     },
     "execution_count": 284,
     "metadata": {},
     "output_type": "execute_result"
    }
   ],
   "source": [
    "data_table.DataTable(describer(df_3)[[\"unique\"]])"
   ]
  },
  {
   "cell_type": "code",
   "execution_count": null,
   "metadata": {
    "id": "32cnIDQrkTIv"
   },
   "outputs": [],
   "source": [
    "data_table.DataTable(describer(df))"
   ]
  },
  {
   "cell_type": "code",
   "execution_count": null,
   "metadata": {
    "id": "epRn-Zc-k5BY"
   },
   "outputs": [],
   "source": [
    "data_table.DataTable(describer(df)"
   ]
  },
  {
   "cell_type": "code",
   "execution_count": null,
   "metadata": {
    "id": "J2MSPXnMeGRo"
   },
   "outputs": [],
   "source": [
    "describer(test_x)"
   ]
  },
  {
   "cell_type": "code",
   "execution_count": null,
   "metadata": {
    "colab": {
     "base_uri": "https://localhost:8080/"
    },
    "id": "ldaw6p5o57JT",
    "outputId": "f0234186-1e1a-4739-9035-260789df12ca"
   },
   "outputs": [
    {
     "data": {
      "text/plain": [
       "(61853, 24)"
      ]
     },
     "execution_count": 272,
     "metadata": {},
     "output_type": "execute_result"
    }
   ],
   "source": [
    "df.shape"
   ]
  },
  {
   "cell_type": "code",
   "execution_count": null,
   "metadata": {
    "id": "-RpF06WRlBZc"
   },
   "outputs": [],
   "source": [
    "data_table.DataTable(df, include_index=False, max_columns=24, max_rows=61853)"
   ]
  },
  {
   "cell_type": "code",
   "execution_count": null,
   "metadata": {
    "colab": {
     "background_save": true
    },
    "id": "2eohOfg957L8"
   },
   "outputs": [],
   "source": [
    "data_table.DataTable(test_x, include_index=False, max_columns=22, max_rows=24480)"
   ]
  },
  {
   "cell_type": "code",
   "execution_count": null,
   "metadata": {
    "id": "dje8-4OBq27U"
   },
   "outputs": [],
   "source": []
  },
  {
   "cell_type": "code",
   "execution_count": null,
   "metadata": {
    "id": "VIFx6RJBq29x"
   },
   "outputs": [],
   "source": []
  },
  {
   "cell_type": "code",
   "execution_count": null,
   "metadata": {
    "id": "1ejJlauUBD0k"
   },
   "outputs": [],
   "source": []
  },
  {
   "cell_type": "code",
   "execution_count": null,
   "metadata": {
    "id": "RWZ4EhYlD68H"
   },
   "outputs": [],
   "source": [
    "df[[\"facilityName\",\"FacilityInspireID\"]]"
   ]
  },
  {
   "cell_type": "code",
   "execution_count": null,
   "metadata": {
    "id": "VBMwTCsQBD2Y"
   },
   "outputs": [],
   "source": [
    "df[\"eprtrSectorName\"].unique()"
   ]
  },
  {
   "cell_type": "code",
   "execution_count": null,
   "metadata": {
    "id": "TqCPXvDlBD4p"
   },
   "outputs": [],
   "source": [
    "df[\"countryName\"].unique()"
   ]
  },
  {
   "cell_type": "code",
   "execution_count": null,
   "metadata": {
    "id": "uu7Y4HL-DL3h"
   },
   "outputs": [],
   "source": [
    "df[\"EPRTRAnnexIMainActivityLabel\"].unique()"
   ]
  },
  {
   "cell_type": "code",
   "execution_count": null,
   "metadata": {
    "id": "PMcC77jSDYPW"
   },
   "outputs": [],
   "source": [
    "df[\"City\"].unique()"
   ]
  },
  {
   "cell_type": "code",
   "execution_count": null,
   "metadata": {
    "id": "tck6MdFpwkzV"
   },
   "outputs": [],
   "source": []
  },
  {
   "cell_type": "code",
   "execution_count": null,
   "metadata": {
    "id": "_9XTMd064zgd"
   },
   "outputs": [],
   "source": [
    "pdfx.PDFx(\"/content/drive/MyDrive/02-Schneider-Electric-Hack/Data-Science-SE/data/train6/pdfs81515.pdf\").get_text()"
   ]
  },
  {
   "cell_type": "code",
   "execution_count": null,
   "metadata": {
    "id": "dB53dcjk47tM"
   },
   "outputs": [],
   "source": [
    "pdfx.PDFx(\"/content/drive/MyDrive/02-Schneider-Electric-Hack/Data-Science-SE/data/train6/pdfs81560.pdf\").get_text()"
   ]
  },
  {
   "cell_type": "code",
   "execution_count": null,
   "metadata": {
    "id": "k8MPa5Q2481L"
   },
   "outputs": [],
   "source": [
    "pdfx.PDFx(\"/content/drive/MyDrive/02-Schneider-Electric-Hack/Data-Science-SE/data/train6/pdfs81575.pdf\").get_text()"
   ]
  },
  {
   "cell_type": "code",
   "execution_count": null,
   "metadata": {
    "id": "fgYNWg7W484i"
   },
   "outputs": [],
   "source": [
    "pdfx.PDFx(\"/content/drive/MyDrive/02-Schneider-Electric-Hack/Data-Science-SE/data/train6/pdfs81580.pdf\").get_text()"
   ]
  },
  {
   "cell_type": "code",
   "execution_count": null,
   "metadata": {
    "id": "cUQMBjOR486l"
   },
   "outputs": [],
   "source": [
    "pdfx.PDFx(\"/content/drive/MyDrive/02-Schneider-Electric-Hack/Data-Science-SE/data/train6/pdfs81593.pdf\").get_text()"
   ]
  },
  {
   "cell_type": "code",
   "execution_count": null,
   "metadata": {
    "id": "fY-Yb7kQ5JPe"
   },
   "outputs": [],
   "source": []
  },
  {
   "cell_type": "code",
   "execution_count": null,
   "metadata": {
    "id": "NQ_f-mOK5JRg"
   },
   "outputs": [],
   "source": []
  },
  {
   "cell_type": "code",
   "execution_count": null,
   "metadata": {
    "id": "6hHpEe4g5JUA"
   },
   "outputs": [],
   "source": []
  },
  {
   "cell_type": "code",
   "execution_count": null,
   "metadata": {
    "id": "d9_6gN-mwkza"
   },
   "outputs": [],
   "source": [
    "\n",
    "pdf = pdfx.PDFx(\"/content/drive/MyDrive/02-Schneider-Electric-Hack/Data-Science-SE/data/train6/pdfs81515.pdf\")\n",
    "pdf"
   ]
  },
  {
   "cell_type": "markdown",
   "metadata": {
    "id": "VpCSv-4Mwkza"
   },
   "source": [
    "Next, use the `get_text()` function to extract the text from the `pdf` object:"
   ]
  },
  {
   "cell_type": "code",
   "execution_count": null,
   "metadata": {
    "colab": {
     "base_uri": "https://localhost:8080/",
     "height": 105
    },
    "id": "tx_dhgaCwkzb",
    "outputId": "d7c91cbf-9c55-4e55-93ee-2ebc918a3a1c"
   },
   "outputs": [
    {
     "data": {
      "application/vnd.google.colaboratory.intrinsic+json": {
       "type": "string"
      },
      "text/plain": [
       "'REPORT CONTAMINACIÓN\\n\\nFACILITY NAME:\\nFacilityInspireID: UK.SEPA/200000061.Facility\\n\\nFife Ethylene Plant\\n\\nCOUNTRY:\\nCITY:\\n\\nUnited Kingdom\\nCowdenbeath\\n\\nnº:\\n\\n81516\\n\\n81516\\n\\nCONTINENT:\\n\\nEUROPE\\n\\nEPRTRSectorCode:\\n\\n1\\n\\neprtrSectorName:\\n\\nEnergy sector\\n\\nMainActivityCode: 1(c)\\n\\ntargetRealase:\\nemissions:\\n\\n6,8E+08\\n\\nAIR\\n\\npollutant:\\n\\nCarbon dioxide (CO2)\\n\\nDAY:\\n\\n12\\n\\nMONTH:\\n\\n4 YEAR:\\n\\n2019\\n\\nMETEOROLOGICAL CONDITIONS\\n\\nmax_wind_speed: 1,52E+16\\n\\nmin_wind_speed:\\n\\n2,06E+15 avg_wind_speed: 1,46E+16\\n\\nmax_temp:\\n\\n9,61E+15\\n\\nmin_temp:\\n\\n1,33E+16 avg_temp:\\n\\n8,69E+15\\n\\nDAYS FOG:\\n\\n19\\n\\nREPORTER NAME:Shawn Graham\\n\\nCITY_ID\\n\\n3c563ab0d76fc84128574b5da82f769a\\n\\n\\x0c'"
      ]
     },
     "execution_count": 15,
     "metadata": {},
     "output_type": "execute_result"
    }
   ],
   "source": [
    "text = pdf.get_text()\n",
    "text"
   ]
  },
  {
   "cell_type": "code",
   "execution_count": null,
   "metadata": {
    "id": "zglXB5cz0xDg"
   },
   "outputs": [],
   "source": []
  },
  {
   "cell_type": "code",
   "execution_count": null,
   "metadata": {
    "colab": {
     "base_uri": "https://localhost:8080/"
    },
    "id": "XshVR5-j3jxr",
    "outputId": "3254c096-e796-4b76-d283-4d9c78c51e6b"
   },
   "outputs": [
    {
     "data": {
      "text/plain": [
       "Index(['countryName', 'eprtrSectorName', 'EPRTRAnnexIMainActivityLabel',\n",
       "       'FacilityInspireID', 'facilityName', 'City', 'targetRelease',\n",
       "       'pollutant', 'reportingYear', 'MONTH', 'DAY', 'CONTINENT',\n",
       "       'max_wind_speed', 'avg_wind_speed', 'min_wind_speed', 'max_temp',\n",
       "       'avg_temp', 'min_temp', 'DAY WITH FOGS', 'REPORTER NAME', 'CITY ID'],\n",
       "      dtype='object')"
      ]
     },
     "execution_count": 20,
     "metadata": {},
     "output_type": "execute_result"
    }
   ],
   "source": [
    "train1.columns"
   ]
  },
  {
   "cell_type": "code",
   "execution_count": null,
   "metadata": {
    "id": "neB9Jf2-3Wbj"
   },
   "outputs": [],
   "source": [
    "pprint(text)"
   ]
  }
 ],
 "metadata": {
  "colab": {
   "collapsed_sections": [],
   "name": "main.ipynb",
   "provenance": []
  },
  "kernelspec": {
   "display_name": "Python 3",
   "language": "python",
   "name": "python3"
  },
  "language_info": {
   "codemirror_mode": {
    "name": "ipython",
    "version": 3
   },
   "file_extension": ".py",
   "mimetype": "text/x-python",
   "name": "python",
   "nbconvert_exporter": "python",
   "pygments_lexer": "ipython3",
   "version": "3.8.8"
  }
 },
 "nbformat": 4,
 "nbformat_minor": 1
}
